{
 "cells": [
  {
   "cell_type": "code",
   "execution_count": 1,
   "metadata": {
    "collapsed": false
   },
   "outputs": [
    {
     "name": "stdout",
     "output_type": "stream",
     "text": [
      "Populating the interactive namespace from numpy and matplotlib\n"
     ]
    }
   ],
   "source": [
    "import pandas as pd\n",
    "import numpy as np\n",
    "import pylab as pl\n",
    "\n",
    "from sklearn import linear_model\n",
    "from sklearn.linear_model import LogisticRegression, RidgeClassifierCV\n",
    "from sklearn.ensemble import RandomForestClassifier, GradientBoostingClassifier\n",
    "from sklearn.tree import DecisionTreeClassifier\n",
    "from sklearn.cross_validation import cross_val_score\n",
    "from sklearn.preprocessing import Imputer\n",
    "from sklearn import preprocessing\n",
    "from sklearn.base import BaseEstimator\n",
    "\n",
    "import os\n",
    "import json\n",
    "\n",
    "%pylab inline"
   ]
  },
  {
   "cell_type": "code",
   "execution_count": 2,
   "metadata": {
    "collapsed": false
   },
   "outputs": [],
   "source": [
    "a = pd.read_csv('Wave1transactions5years.csv')"
   ]
  },
  {
   "cell_type": "code",
   "execution_count": 3,
   "metadata": {
    "collapsed": false
   },
   "outputs": [],
   "source": [
    "b = pd.read_csv('Wave1transactions.csv')"
   ]
  },
  {
   "cell_type": "code",
   "execution_count": 4,
   "metadata": {
    "collapsed": false
   },
   "outputs": [],
   "source": [
    "transdata = pd.merge(a, b, on=\"ID_TRANS\", copy=True)"
   ]
  },
  {
   "cell_type": "code",
   "execution_count": 5,
   "metadata": {
    "collapsed": false
   },
   "outputs": [
    {
     "data": {
      "text/html": [
       "<div>\n",
       "<table border=\"1\" class=\"dataframe\">\n",
       "  <thead>\n",
       "    <tr style=\"text-align: right;\">\n",
       "      <th></th>\n",
       "      <th>ID_TRANS</th>\n",
       "      <th>ID_INTERNAL</th>\n",
       "      <th>CD_TYPE_ACCT_x</th>\n",
       "      <th>AM_TOT_COLL_EFFECT</th>\n",
       "      <th>AM_TOT_LIAB_EFFECT</th>\n",
       "      <th>CD_TYPE_TRANS</th>\n",
       "      <th>QT_ASSESSMENT</th>\n",
       "      <th>yearprocess</th>\n",
       "      <th>CD_TYPE_ACCT_y</th>\n",
       "      <th>yearProcess</th>\n",
       "    </tr>\n",
       "  </thead>\n",
       "  <tbody>\n",
       "    <tr>\n",
       "      <th>count</th>\n",
       "      <td>5.217871e+06</td>\n",
       "      <td>5.217871e+06</td>\n",
       "      <td>5217871.000000</td>\n",
       "      <td>5.217871e+06</td>\n",
       "      <td>5.217871e+06</td>\n",
       "      <td>5217871.000000</td>\n",
       "      <td>5217871.000000</td>\n",
       "      <td>5217871.000000</td>\n",
       "      <td>5217871.000000</td>\n",
       "      <td>5217871.000000</td>\n",
       "    </tr>\n",
       "    <tr>\n",
       "      <th>mean</th>\n",
       "      <td>6.895348e+11</td>\n",
       "      <td>3.519308e+11</td>\n",
       "      <td>214.895673</td>\n",
       "      <td>1.826955e+03</td>\n",
       "      <td>1.244284e+03</td>\n",
       "      <td>232.150455</td>\n",
       "      <td>1.020504</td>\n",
       "      <td>2011.996132</td>\n",
       "      <td>214.907011</td>\n",
       "      <td>2011.996177</td>\n",
       "    </tr>\n",
       "    <tr>\n",
       "      <th>std</th>\n",
       "      <td>3.620579e+11</td>\n",
       "      <td>2.098554e+11</td>\n",
       "      <td>43.000523</td>\n",
       "      <td>3.030022e+05</td>\n",
       "      <td>1.832981e+06</td>\n",
       "      <td>143.781931</td>\n",
       "      <td>0.340933</td>\n",
       "      <td>0.863036</td>\n",
       "      <td>43.036217</td>\n",
       "      <td>0.860265</td>\n",
       "    </tr>\n",
       "    <tr>\n",
       "      <th>min</th>\n",
       "      <td>0.000000e+00</td>\n",
       "      <td>4.000000e+02</td>\n",
       "      <td>10.000000</td>\n",
       "      <td>-1.006401e+08</td>\n",
       "      <td>-2.383994e+09</td>\n",
       "      <td>33.000000</td>\n",
       "      <td>0.000000</td>\n",
       "      <td>2010.000000</td>\n",
       "      <td>10.000000</td>\n",
       "      <td>2011.000000</td>\n",
       "    </tr>\n",
       "    <tr>\n",
       "      <th>25%</th>\n",
       "      <td>1.712102e+11</td>\n",
       "      <td>1.700133e+11</td>\n",
       "      <td>200.000000</td>\n",
       "      <td>0.000000e+00</td>\n",
       "      <td>0.000000e+00</td>\n",
       "      <td>111.000000</td>\n",
       "      <td>1.000000</td>\n",
       "      <td>2011.000000</td>\n",
       "      <td>200.000000</td>\n",
       "      <td>2011.000000</td>\n",
       "    </tr>\n",
       "    <tr>\n",
       "      <th>50%</th>\n",
       "      <td>9.311091e+11</td>\n",
       "      <td>3.500119e+11</td>\n",
       "      <td>200.000000</td>\n",
       "      <td>0.000000e+00</td>\n",
       "      <td>0.000000e+00</td>\n",
       "      <td>207.000000</td>\n",
       "      <td>1.000000</td>\n",
       "      <td>2012.000000</td>\n",
       "      <td>200.000000</td>\n",
       "      <td>2012.000000</td>\n",
       "    </tr>\n",
       "    <tr>\n",
       "      <th>75%</th>\n",
       "      <td>9.313785e+11</td>\n",
       "      <td>5.300111e+11</td>\n",
       "      <td>200.000000</td>\n",
       "      <td>2.500000e+01</td>\n",
       "      <td>9.000000e-02</td>\n",
       "      <td>225.000000</td>\n",
       "      <td>1.000000</td>\n",
       "      <td>2013.000000</td>\n",
       "      <td>200.000000</td>\n",
       "      <td>2013.000000</td>\n",
       "    </tr>\n",
       "    <tr>\n",
       "      <th>max</th>\n",
       "      <td>9.999008e+11</td>\n",
       "      <td>9.900431e+11</td>\n",
       "      <td>320.000000</td>\n",
       "      <td>1.434230e+08</td>\n",
       "      <td>2.383994e+09</td>\n",
       "      <td>803.000000</td>\n",
       "      <td>11.000000</td>\n",
       "      <td>2015.000000</td>\n",
       "      <td>330.000000</td>\n",
       "      <td>2015.000000</td>\n",
       "    </tr>\n",
       "  </tbody>\n",
       "</table>\n",
       "</div>"
      ],
      "text/plain": [
       "           ID_TRANS   ID_INTERNAL  CD_TYPE_ACCT_x  AM_TOT_COLL_EFFECT  \\\n",
       "count  5.217871e+06  5.217871e+06  5217871.000000        5.217871e+06   \n",
       "mean   6.895348e+11  3.519308e+11      214.895673        1.826955e+03   \n",
       "std    3.620579e+11  2.098554e+11       43.000523        3.030022e+05   \n",
       "min    0.000000e+00  4.000000e+02       10.000000       -1.006401e+08   \n",
       "25%    1.712102e+11  1.700133e+11      200.000000        0.000000e+00   \n",
       "50%    9.311091e+11  3.500119e+11      200.000000        0.000000e+00   \n",
       "75%    9.313785e+11  5.300111e+11      200.000000        2.500000e+01   \n",
       "max    9.999008e+11  9.900431e+11      320.000000        1.434230e+08   \n",
       "\n",
       "       AM_TOT_LIAB_EFFECT   CD_TYPE_TRANS   QT_ASSESSMENT     yearprocess  \\\n",
       "count        5.217871e+06  5217871.000000  5217871.000000  5217871.000000   \n",
       "mean         1.244284e+03      232.150455        1.020504     2011.996132   \n",
       "std          1.832981e+06      143.781931        0.340933        0.863036   \n",
       "min         -2.383994e+09       33.000000        0.000000     2010.000000   \n",
       "25%          0.000000e+00      111.000000        1.000000     2011.000000   \n",
       "50%          0.000000e+00      207.000000        1.000000     2012.000000   \n",
       "75%          9.000000e-02      225.000000        1.000000     2013.000000   \n",
       "max          2.383994e+09      803.000000       11.000000     2015.000000   \n",
       "\n",
       "       CD_TYPE_ACCT_y     yearProcess  \n",
       "count  5217871.000000  5217871.000000  \n",
       "mean       214.907011     2011.996177  \n",
       "std         43.036217        0.860265  \n",
       "min         10.000000     2011.000000  \n",
       "25%        200.000000     2011.000000  \n",
       "50%        200.000000     2012.000000  \n",
       "75%        200.000000     2013.000000  \n",
       "max        330.000000     2015.000000  "
      ]
     },
     "execution_count": 5,
     "metadata": {},
     "output_type": "execute_result"
    }
   ],
   "source": [
    "transdata.describe()"
   ]
  },
  {
   "cell_type": "code",
   "execution_count": 6,
   "metadata": {
    "collapsed": false
   },
   "outputs": [
    {
     "data": {
      "text/plain": [
       "ID_TRANS                int64\n",
       "ID_INTERNAL             int64\n",
       "CD_TYPE_ACCT_x          int64\n",
       "DT_PROCESS             object\n",
       "DT_IN                  object\n",
       "AM_TOT_COLL_EFFECT    float64\n",
       "AM_TOT_LIAB_EFFECT    float64\n",
       "CD_TYPE_TRANS           int64\n",
       "QT_ASSESSMENT           int64\n",
       "ID_ACCT                object\n",
       "yearprocess             int64\n",
       "CD_TYPE_ACCT_y          int64\n",
       "DT_PD_ACCT_BEGIN       object\n",
       "DT_PD_ACCT_END         object\n",
       "yearProcess             int64\n",
       "dtype: object"
      ]
     },
     "execution_count": 6,
     "metadata": {},
     "output_type": "execute_result"
    }
   ],
   "source": [
    "transdata.dtypes"
   ]
  },
  {
   "cell_type": "code",
   "execution_count": 7,
   "metadata": {
    "collapsed": false
   },
   "outputs": [],
   "source": [
    "transdata['DT_IN'] = pd.to_datetime(transdata['DT_IN'])"
   ]
  },
  {
   "cell_type": "code",
   "execution_count": 8,
   "metadata": {
    "collapsed": true
   },
   "outputs": [],
   "source": [
    "transdata['DT_PROCESS'] = pd.to_datetime(transdata['DT_PROCESS'])"
   ]
  },
  {
   "cell_type": "code",
   "execution_count": 9,
   "metadata": {
    "collapsed": false
   },
   "outputs": [],
   "source": [
    "# Create unique receivable id\n",
    "# I can create the key while converting int values to string (object) values\n",
    "transdata['RecKey'] = transdata.ID_INTERNAL.map(str) + transdata.CD_TYPE_ACCT_x.map(str) + transdata.ID_ACCT + transdata.QT_ASSESSMENT.map(str) + transdata.DT_PD_ACCT_BEGIN"
   ]
  },
  {
   "cell_type": "code",
   "execution_count": 85,
   "metadata": {
    "collapsed": false
   },
   "outputs": [
    {
     "name": "stdout",
     "output_type": "stream",
     "text": [
      "yearProcess\n",
      "2011    274009\n",
      "2012    271682\n",
      "2013    265854\n",
      "2014     37162\n",
      "2015       399\n",
      "Name: ID_INTERNAL, dtype: int64\n"
     ]
    }
   ],
   "source": [
    "#849,106, receivables\n",
    "print transdata.groupby('yearProcess').ID_INTERNAL.nunique()"
   ]
  },
  {
   "cell_type": "code",
   "execution_count": 11,
   "metadata": {
    "collapsed": false
   },
   "outputs": [
    {
     "name": "stdout",
     "output_type": "stream",
     "text": [
      "CD_TYPE_TRANS\n",
      "33         27\n",
      "100     31715\n",
      "101    254417\n",
      "102      5436\n",
      "103       871\n",
      "104      5062\n",
      "105     80355\n",
      "106      6452\n",
      "107    180156\n",
      "108      1495\n",
      "109       490\n",
      "110     70733\n",
      "111    115553\n",
      "112      3378\n",
      "113    263565\n",
      "180        47\n",
      "181         2\n",
      "200     31735\n",
      "201     31184\n",
      "202     79864\n",
      "203         5\n",
      "204     40141\n",
      "205       688\n",
      "206     74080\n",
      "207    180347\n",
      "208      1527\n",
      "209       520\n",
      "210     70881\n",
      "211    115810\n",
      "212      3400\n",
      "        ...  \n",
      "422     13976\n",
      "423       361\n",
      "501      6704\n",
      "502      1133\n",
      "503       831\n",
      "504       167\n",
      "505       541\n",
      "507        41\n",
      "510    242617\n",
      "511     45400\n",
      "512      2954\n",
      "513        39\n",
      "515       402\n",
      "516       567\n",
      "520       213\n",
      "601      1893\n",
      "602        24\n",
      "603       927\n",
      "604      5215\n",
      "605     19431\n",
      "607      6138\n",
      "608       698\n",
      "613        30\n",
      "614       646\n",
      "625        22\n",
      "626       648\n",
      "627         4\n",
      "801      9935\n",
      "802      6265\n",
      "803       139\n",
      "Name: ID_INTERNAL, dtype: int64\n"
     ]
    }
   ],
   "source": [
    "print transdata.groupby('CD_TYPE_TRANS').ID_INTERNAL.nunique()"
   ]
  },
  {
   "cell_type": "code",
   "execution_count": 12,
   "metadata": {
    "collapsed": true
   },
   "outputs": [],
   "source": [
    "# Factors I want to use: \n",
    "# Industry - not in this datatset\n",
    "# Net Income - not in this dataset\n",
    "# Years in business - not in this dataset\n",
    "# cancellation (611 collection cancellation, 612 liability cancellation) - not any occurances in dataset so discarding\n",
    "# Delinquent or Non-Filer history (505, 506) - not many occurances in data set so discarding\n",
    "\n",
    "\n",
    "# Tax Type\n",
    "# Filing method\n",
    "# Amount Due - categories up to 5k, 5 to 50K, 50 to 100k, 100 to 500k (match gct min tax categories)\n",
    "# Payment types (estimated, bill, return, credit) 201, 202, 207, 208, 209, 210, 211, 212, 225, 226, 227\n",
    "# Adjustments - line item adjustments (501, 502, 504, 510, 511 (512, 513) indate adjustments - 601, 602, 603, 607 )\n",
    "# Previous notice (tax due 306/401)\n",
    "# Collections to date ($) - AM_TOT_COLL_EFFECT    \n",
    "\n",
    "\n",
    "# payments made after notice date notice is transaction 401\n"
   ]
  },
  {
   "cell_type": "code",
   "execution_count": 13,
   "metadata": {
    "collapsed": false
   },
   "outputs": [],
   "source": [
    "transdata[\"filingmethod\"] = transdata[\"ID_TRANS\"].map(lambda x: str(x)[:5])"
   ]
  },
  {
   "cell_type": "code",
   "execution_count": 14,
   "metadata": {
    "collapsed": false
   },
   "outputs": [],
   "source": [
    "#add the filing method feature for each receivable\n",
    "#create a df with filing method feature for each receivable\n",
    "filingtypes = transdata[transdata[\"CD_TYPE_TRANS\"].isin([101,102, 103, 104, 105, 106, 107, 108, 109, 110, 111, 112])]\n"
   ]
  },
  {
   "cell_type": "code",
   "execution_count": 15,
   "metadata": {
    "collapsed": false
   },
   "outputs": [],
   "source": [
    "# add tax type feature for each receivable\n",
    "transdata['10'] = transdata[\"CD_TYPE_ACCT_x\"].isin([10])\n",
    "transdata['200'] = transdata[\"CD_TYPE_ACCT_x\"].isin([200])\n",
    "transdata['320'] = transdata[\"CD_TYPE_ACCT_x\"].isin([320])\n",
    "transdata['330'] = transdata[\"CD_TYPE_ACCT_x\"].isin([330])"
   ]
  },
  {
   "cell_type": "code",
   "execution_count": 16,
   "metadata": {
    "collapsed": false
   },
   "outputs": [],
   "source": [
    "# Create a df for total liabilities and collections, delete unneeded columns, \n",
    "# add the amount cat feature for each receivable, \n",
    "\n",
    "transdatasum = transdata.groupby(['RecKey']).sum().reset_index()"
   ]
  },
  {
   "cell_type": "code",
   "execution_count": null,
   "metadata": {
    "collapsed": false
   },
   "outputs": [],
   "source": [
    "transdatasum.dtypes"
   ]
  },
  {
   "cell_type": "code",
   "execution_count": 17,
   "metadata": {
    "collapsed": false
   },
   "outputs": [],
   "source": [
    "del transdatasum['CD_TYPE_ACCT_x']"
   ]
  },
  {
   "cell_type": "code",
   "execution_count": 18,
   "metadata": {
    "collapsed": false
   },
   "outputs": [],
   "source": [
    "del transdatasum['QT_ASSESSMENT']"
   ]
  },
  {
   "cell_type": "code",
   "execution_count": 19,
   "metadata": {
    "collapsed": true
   },
   "outputs": [],
   "source": [
    "del transdatasum['yearprocess']"
   ]
  },
  {
   "cell_type": "code",
   "execution_count": 20,
   "metadata": {
    "collapsed": true
   },
   "outputs": [],
   "source": [
    "del transdatasum['CD_TYPE_ACCT_y']"
   ]
  },
  {
   "cell_type": "code",
   "execution_count": 21,
   "metadata": {
    "collapsed": true
   },
   "outputs": [],
   "source": [
    "del transdatasum['yearProcess']"
   ]
  },
  {
   "cell_type": "code",
   "execution_count": 22,
   "metadata": {
    "collapsed": true
   },
   "outputs": [],
   "source": [
    "del transdatasum['ID_INTERNAL']"
   ]
  },
  {
   "cell_type": "code",
   "execution_count": 23,
   "metadata": {
    "collapsed": true
   },
   "outputs": [],
   "source": [
    "del transdatasum['ID_TRANS']"
   ]
  },
  {
   "cell_type": "code",
   "execution_count": 24,
   "metadata": {
    "collapsed": false
   },
   "outputs": [],
   "source": [
    "transdatasum['500KOver'] = transdatasum[\"AM_TOT_LIAB_EFFECT\"].map(lambda x: 1 if x >= 500000 else 0)\n",
    "transdatasum['100to500K'] = transdatasum[\"AM_TOT_LIAB_EFFECT\"].map(lambda x: 1 if 100000 < x <= 500000 else 0)\n",
    "transdatasum['50to100K'] = transdatasum[\"AM_TOT_LIAB_EFFECT\"].map(lambda x: 1 if 50000 < x <= 100000 else 0)\n",
    "transdatasum['5to50k'] = transdatasum[\"AM_TOT_LIAB_EFFECT\"].map(lambda x: 1 if 5000 < x <= 50000 else 0)\n",
    "transdatasum['5kUnder'] = transdatasum[\"AM_TOT_LIAB_EFFECT\"].map(lambda x: 1 if x <= 5000 else 0)"
   ]
  },
  {
   "cell_type": "code",
   "execution_count": 25,
   "metadata": {
    "collapsed": false
   },
   "outputs": [
    {
     "data": {
      "text/plain": [
       "RecKey                 object\n",
       "AM_TOT_COLL_EFFECT    float64\n",
       "AM_TOT_LIAB_EFFECT    float64\n",
       "CD_TYPE_TRANS           int64\n",
       "10                    float64\n",
       "200                   float64\n",
       "320                   float64\n",
       "330                   float64\n",
       "500KOver                int64\n",
       "100to500K               int64\n",
       "50to100K                int64\n",
       "5to50k                  int64\n",
       "5kUnder                 int64\n",
       "dtype: object"
      ]
     },
     "execution_count": 25,
     "metadata": {},
     "output_type": "execute_result"
    }
   ],
   "source": [
    "transdatasum.dtypes"
   ]
  },
  {
   "cell_type": "code",
   "execution_count": 26,
   "metadata": {
    "collapsed": false
   },
   "outputs": [],
   "source": [
    "# Create a df for total collections, add the amount cat feature for %paid\n",
    "transdatasum['PPaid'] = transdatasum['AM_TOT_COLL_EFFECT']/transdatasum['AM_TOT_LIAB_EFFECT']"
   ]
  },
  {
   "cell_type": "code",
   "execution_count": 27,
   "metadata": {
    "collapsed": true
   },
   "outputs": [],
   "source": [
    "transdatasum['Balance'] = transdatasum['AM_TOT_LIAB_EFFECT']-transdatasum['AM_TOT_COLL_EFFECT']"
   ]
  },
  {
   "cell_type": "code",
   "execution_count": 42,
   "metadata": {
    "collapsed": false
   },
   "outputs": [],
   "source": [
    "transdata['PPaid'] = transdatasum['PPaid']\n",
    "transdata['Balance'] = transdatasum['Balance']"
   ]
  },
  {
   "cell_type": "code",
   "execution_count": 48,
   "metadata": {
    "collapsed": false
   },
   "outputs": [
    {
     "data": {
      "text/html": [
       "<div>\n",
       "<table border=\"1\" class=\"dataframe\">\n",
       "  <thead>\n",
       "    <tr style=\"text-align: right;\">\n",
       "      <th></th>\n",
       "      <th>ID_TRANS</th>\n",
       "      <th>ID_INTERNAL</th>\n",
       "      <th>CD_TYPE_ACCT_x</th>\n",
       "      <th>DT_PROCESS</th>\n",
       "      <th>DT_IN</th>\n",
       "      <th>AM_TOT_COLL_EFFECT</th>\n",
       "      <th>AM_TOT_LIAB_EFFECT</th>\n",
       "      <th>CD_TYPE_TRANS</th>\n",
       "      <th>QT_ASSESSMENT</th>\n",
       "      <th>ID_ACCT</th>\n",
       "      <th>...</th>\n",
       "      <th>RecKey</th>\n",
       "      <th>filingmethod</th>\n",
       "      <th>10</th>\n",
       "      <th>200</th>\n",
       "      <th>320</th>\n",
       "      <th>330</th>\n",
       "      <th>adj</th>\n",
       "      <th>PPaid</th>\n",
       "      <th>Balance</th>\n",
       "      <th>noticed</th>\n",
       "    </tr>\n",
       "  </thead>\n",
       "  <tbody>\n",
       "    <tr>\n",
       "      <th>0</th>\n",
       "      <td>931384603240</td>\n",
       "      <td>40027269604</td>\n",
       "      <td>320</td>\n",
       "      <td>2013-11-02</td>\n",
       "      <td>2013-10-15</td>\n",
       "      <td>0</td>\n",
       "      <td>22.15</td>\n",
       "      <td>401</td>\n",
       "      <td>1</td>\n",
       "      <td></td>\n",
       "      <td>...</td>\n",
       "      <td>40027269604320            12012-01-01</td>\n",
       "      <td>93138</td>\n",
       "      <td>False</td>\n",
       "      <td>False</td>\n",
       "      <td>True</td>\n",
       "      <td>False</td>\n",
       "      <td>NaN</td>\n",
       "      <td>NaN</td>\n",
       "      <td>0.00</td>\n",
       "      <td>2013-11-02</td>\n",
       "    </tr>\n",
       "    <tr>\n",
       "      <th>1</th>\n",
       "      <td>931384558414</td>\n",
       "      <td>20025536902</td>\n",
       "      <td>320</td>\n",
       "      <td>2013-11-02</td>\n",
       "      <td>2013-10-07</td>\n",
       "      <td>0</td>\n",
       "      <td>614.45</td>\n",
       "      <td>401</td>\n",
       "      <td>1</td>\n",
       "      <td></td>\n",
       "      <td>...</td>\n",
       "      <td>20025536902320            12012-01-01</td>\n",
       "      <td>93138</td>\n",
       "      <td>False</td>\n",
       "      <td>False</td>\n",
       "      <td>True</td>\n",
       "      <td>False</td>\n",
       "      <td>NaN</td>\n",
       "      <td>-0.170172</td>\n",
       "      <td>3500.84</td>\n",
       "      <td>2013-11-02</td>\n",
       "    </tr>\n",
       "    <tr>\n",
       "      <th>2</th>\n",
       "      <td>931384558415</td>\n",
       "      <td>20025536902</td>\n",
       "      <td>320</td>\n",
       "      <td>2013-11-02</td>\n",
       "      <td>2013-10-07</td>\n",
       "      <td>0</td>\n",
       "      <td>318.35</td>\n",
       "      <td>401</td>\n",
       "      <td>1</td>\n",
       "      <td></td>\n",
       "      <td>...</td>\n",
       "      <td>20025536902320            12011-01-01</td>\n",
       "      <td>93138</td>\n",
       "      <td>False</td>\n",
       "      <td>False</td>\n",
       "      <td>True</td>\n",
       "      <td>False</td>\n",
       "      <td>NaN</td>\n",
       "      <td>1.000000</td>\n",
       "      <td>0.00</td>\n",
       "      <td>2013-11-02</td>\n",
       "    </tr>\n",
       "    <tr>\n",
       "      <th>3</th>\n",
       "      <td>931384760657</td>\n",
       "      <td>40027460804</td>\n",
       "      <td>320</td>\n",
       "      <td>2013-11-02</td>\n",
       "      <td>2013-10-25</td>\n",
       "      <td>0</td>\n",
       "      <td>0.00</td>\n",
       "      <td>401</td>\n",
       "      <td>1</td>\n",
       "      <td></td>\n",
       "      <td>...</td>\n",
       "      <td>40027460804320            12012-01-01</td>\n",
       "      <td>93138</td>\n",
       "      <td>False</td>\n",
       "      <td>False</td>\n",
       "      <td>True</td>\n",
       "      <td>False</td>\n",
       "      <td>NaN</td>\n",
       "      <td>1.000251</td>\n",
       "      <td>-0.91</td>\n",
       "      <td>2013-11-02</td>\n",
       "    </tr>\n",
       "    <tr>\n",
       "      <th>4</th>\n",
       "      <td>931384803492</td>\n",
       "      <td>40022234004</td>\n",
       "      <td>200</td>\n",
       "      <td>2013-11-02</td>\n",
       "      <td>2013-11-06</td>\n",
       "      <td>0</td>\n",
       "      <td>90.68</td>\n",
       "      <td>403</td>\n",
       "      <td>1</td>\n",
       "      <td></td>\n",
       "      <td>...</td>\n",
       "      <td>40022234004200            12012-01-01</td>\n",
       "      <td>93138</td>\n",
       "      <td>False</td>\n",
       "      <td>True</td>\n",
       "      <td>False</td>\n",
       "      <td>False</td>\n",
       "      <td>NaN</td>\n",
       "      <td>-32.240000</td>\n",
       "      <td>831.00</td>\n",
       "      <td>NaT</td>\n",
       "    </tr>\n",
       "  </tbody>\n",
       "</table>\n",
       "<p>5 rows × 25 columns</p>\n",
       "</div>"
      ],
      "text/plain": [
       "       ID_TRANS  ID_INTERNAL  CD_TYPE_ACCT_x DT_PROCESS      DT_IN  \\\n",
       "0  931384603240  40027269604             320 2013-11-02 2013-10-15   \n",
       "1  931384558414  20025536902             320 2013-11-02 2013-10-07   \n",
       "2  931384558415  20025536902             320 2013-11-02 2013-10-07   \n",
       "3  931384760657  40027460804             320 2013-11-02 2013-10-25   \n",
       "4  931384803492  40022234004             200 2013-11-02 2013-11-06   \n",
       "\n",
       "   AM_TOT_COLL_EFFECT  AM_TOT_LIAB_EFFECT  CD_TYPE_TRANS  QT_ASSESSMENT  \\\n",
       "0                   0               22.15            401              1   \n",
       "1                   0              614.45            401              1   \n",
       "2                   0              318.35            401              1   \n",
       "3                   0                0.00            401              1   \n",
       "4                   0               90.68            403              1   \n",
       "\n",
       "        ID_ACCT    ...                                     RecKey  \\\n",
       "0                  ...      40027269604320            12012-01-01   \n",
       "1                  ...      20025536902320            12012-01-01   \n",
       "2                  ...      20025536902320            12011-01-01   \n",
       "3                  ...      40027460804320            12012-01-01   \n",
       "4                  ...      40022234004200            12012-01-01   \n",
       "\n",
       "   filingmethod     10    200    320    330  adj      PPaid  Balance  \\\n",
       "0         93138  False  False   True  False  NaN        NaN     0.00   \n",
       "1         93138  False  False   True  False  NaN  -0.170172  3500.84   \n",
       "2         93138  False  False   True  False  NaN   1.000000     0.00   \n",
       "3         93138  False  False   True  False  NaN   1.000251    -0.91   \n",
       "4         93138  False   True  False  False  NaN -32.240000   831.00   \n",
       "\n",
       "     noticed  \n",
       "0 2013-11-02  \n",
       "1 2013-11-02  \n",
       "2 2013-11-02  \n",
       "3 2013-11-02  \n",
       "4        NaT  \n",
       "\n",
       "[5 rows x 25 columns]"
      ]
     },
     "execution_count": 48,
     "metadata": {},
     "output_type": "execute_result"
    }
   ],
   "source": [
    "transdata.head()"
   ]
  },
  {
   "cell_type": "code",
   "execution_count": 28,
   "metadata": {
    "collapsed": false
   },
   "outputs": [],
   "source": [
    "# Create a df with adjustments made \n",
    "adjhist = transdata[transdata[\"CD_TYPE_TRANS\"].isin([501, 502, 504, 510, 511, 512, 513, 601, 602, 603, 607])]"
   ]
  },
  {
   "cell_type": "code",
   "execution_count": 37,
   "metadata": {
    "collapsed": false
   },
   "outputs": [],
   "source": [
    "# Add an ADJ feature to transdata\n",
    "transdata['adj'] = adjhist['CD_TYPE_TRANS'] >0"
   ]
  },
  {
   "cell_type": "code",
   "execution_count": null,
   "metadata": {
    "collapsed": true
   },
   "outputs": [],
   "source": []
  },
  {
   "cell_type": "code",
   "execution_count": 46,
   "metadata": {
    "collapsed": true
   },
   "outputs": [],
   "source": [
    "#create a df with the notice of tax due date for each receivable\n",
    "# how to indicate current vs previous (balance=0?)\n",
    "noticedreceivables = transdata[transdata[\"CD_TYPE_TRANS\"].isin([401])]"
   ]
  },
  {
   "cell_type": "code",
   "execution_count": 57,
   "metadata": {
    "collapsed": true
   },
   "outputs": [],
   "source": [
    "#notice and demand\n",
    "nd = transdata[transdata[\"CD_TYPE_TRANS\"].isin([403])]"
   ]
  },
  {
   "cell_type": "code",
   "execution_count": 59,
   "metadata": {
    "collapsed": false
   },
   "outputs": [
    {
     "data": {
      "text/plain": [
       "yearProcess\n",
       "2011    35522\n",
       "2012    34085\n",
       "2013    28912\n",
       "2014     2344\n",
       "2015       53\n",
       "Name: RecKey, dtype: int64"
      ]
     },
     "execution_count": 59,
     "metadata": {},
     "output_type": "execute_result"
    }
   ],
   "source": [
    "nd.groupby('yearProcess').RecKey.nunique()"
   ]
  },
  {
   "cell_type": "code",
   "execution_count": 83,
   "metadata": {
    "collapsed": false
   },
   "outputs": [],
   "source": [
    "balance = noticedreceivables[noticedreceivables[\"PPaid\"] >0]"
   ]
  },
  {
   "cell_type": "code",
   "execution_count": 79,
   "metadata": {
    "collapsed": false
   },
   "outputs": [
    {
     "data": {
      "text/html": [
       "<div>\n",
       "<table border=\"1\" class=\"dataframe\">\n",
       "  <thead>\n",
       "    <tr style=\"text-align: right;\">\n",
       "      <th></th>\n",
       "      <th>ID_TRANS</th>\n",
       "      <th>ID_INTERNAL</th>\n",
       "      <th>CD_TYPE_ACCT_x</th>\n",
       "      <th>AM_TOT_COLL_EFFECT</th>\n",
       "      <th>AM_TOT_LIAB_EFFECT</th>\n",
       "      <th>CD_TYPE_TRANS</th>\n",
       "      <th>QT_ASSESSMENT</th>\n",
       "      <th>yearprocess</th>\n",
       "      <th>CD_TYPE_ACCT_y</th>\n",
       "      <th>yearProcess</th>\n",
       "      <th>10</th>\n",
       "      <th>200</th>\n",
       "      <th>320</th>\n",
       "      <th>330</th>\n",
       "      <th>PPaid</th>\n",
       "      <th>Balance</th>\n",
       "    </tr>\n",
       "  </thead>\n",
       "  <tbody>\n",
       "    <tr>\n",
       "      <th>count</th>\n",
       "      <td>2.824540e+05</td>\n",
       "      <td>2.824540e+05</td>\n",
       "      <td>282454.000000</td>\n",
       "      <td>282454.000000</td>\n",
       "      <td>282454.000000</td>\n",
       "      <td>282454.000000</td>\n",
       "      <td>282454.000000</td>\n",
       "      <td>282454.000000</td>\n",
       "      <td>282454.000000</td>\n",
       "      <td>282454.000000</td>\n",
       "      <td>282454</td>\n",
       "      <td>282454</td>\n",
       "      <td>282454</td>\n",
       "      <td>282454</td>\n",
       "      <td>2.824540e+05</td>\n",
       "      <td>2.824540e+05</td>\n",
       "    </tr>\n",
       "    <tr>\n",
       "      <th>mean</th>\n",
       "      <td>6.863759e+11</td>\n",
       "      <td>7.145545e+10</td>\n",
       "      <td>215.479724</td>\n",
       "      <td>1639.986638</td>\n",
       "      <td>1257.525587</td>\n",
       "      <td>232.262910</td>\n",
       "      <td>1.024542</td>\n",
       "      <td>2011.988320</td>\n",
       "      <td>215.473493</td>\n",
       "      <td>2011.987747</td>\n",
       "      <td>0.003678475</td>\n",
       "      <td>0.8614996</td>\n",
       "      <td>0.134822</td>\n",
       "      <td>0</td>\n",
       "      <td>-inf</td>\n",
       "      <td>1.889170e+04</td>\n",
       "    </tr>\n",
       "    <tr>\n",
       "      <th>std</th>\n",
       "      <td>3.611602e+11</td>\n",
       "      <td>8.612086e+10</td>\n",
       "      <td>42.832391</td>\n",
       "      <td>153588.062821</td>\n",
       "      <td>129573.816248</td>\n",
       "      <td>144.034673</td>\n",
       "      <td>0.368860</td>\n",
       "      <td>0.849134</td>\n",
       "      <td>42.915797</td>\n",
       "      <td>0.845386</td>\n",
       "      <td>0.06053889</td>\n",
       "      <td>0.3454251</td>\n",
       "      <td>0.3415339</td>\n",
       "      <td>0</td>\n",
       "      <td>NaN</td>\n",
       "      <td>7.779248e+05</td>\n",
       "    </tr>\n",
       "    <tr>\n",
       "      <th>min</th>\n",
       "      <td>0.000000e+00</td>\n",
       "      <td>2.800000e+03</td>\n",
       "      <td>10.000000</td>\n",
       "      <td>-30094873.690000</td>\n",
       "      <td>-25740627.090000</td>\n",
       "      <td>33.000000</td>\n",
       "      <td>0.000000</td>\n",
       "      <td>2010.000000</td>\n",
       "      <td>10.000000</td>\n",
       "      <td>2011.000000</td>\n",
       "      <td>False</td>\n",
       "      <td>False</td>\n",
       "      <td>False</td>\n",
       "      <td>False</td>\n",
       "      <td>-inf</td>\n",
       "      <td>3.469447e-18</td>\n",
       "    </tr>\n",
       "    <tr>\n",
       "      <th>25%</th>\n",
       "      <td>1.712102e+11</td>\n",
       "      <td>3.001005e+10</td>\n",
       "      <td>200.000000</td>\n",
       "      <td>0.000000</td>\n",
       "      <td>0.000000</td>\n",
       "      <td>111.000000</td>\n",
       "      <td>1.000000</td>\n",
       "      <td>2011.000000</td>\n",
       "      <td>200.000000</td>\n",
       "      <td>2011.000000</td>\n",
       "      <td>0</td>\n",
       "      <td>1</td>\n",
       "      <td>0</td>\n",
       "      <td>0</td>\n",
       "      <td>-5.785441e-02</td>\n",
       "      <td>5.900000e-01</td>\n",
       "    </tr>\n",
       "    <tr>\n",
       "      <th>50%</th>\n",
       "      <td>9.212022e+11</td>\n",
       "      <td>6.001351e+10</td>\n",
       "      <td>200.000000</td>\n",
       "      <td>0.000000</td>\n",
       "      <td>0.000000</td>\n",
       "      <td>207.000000</td>\n",
       "      <td>1.000000</td>\n",
       "      <td>2012.000000</td>\n",
       "      <td>200.000000</td>\n",
       "      <td>2012.000000</td>\n",
       "      <td>0</td>\n",
       "      <td>1</td>\n",
       "      <td>0</td>\n",
       "      <td>0</td>\n",
       "      <td>4.216408e-01</td>\n",
       "      <td>1.098400e+02</td>\n",
       "    </tr>\n",
       "    <tr>\n",
       "      <th>75%</th>\n",
       "      <td>9.313647e+11</td>\n",
       "      <td>9.002110e+10</td>\n",
       "      <td>200.000000</td>\n",
       "      <td>25.000000</td>\n",
       "      <td>0.090000</td>\n",
       "      <td>225.000000</td>\n",
       "      <td>1.000000</td>\n",
       "      <td>2013.000000</td>\n",
       "      <td>200.000000</td>\n",
       "      <td>2013.000000</td>\n",
       "      <td>0</td>\n",
       "      <td>1</td>\n",
       "      <td>0</td>\n",
       "      <td>0</td>\n",
       "      <td>9.956008e-01</td>\n",
       "      <td>1.500370e+03</td>\n",
       "    </tr>\n",
       "    <tr>\n",
       "      <th>max</th>\n",
       "      <td>9.999008e+11</td>\n",
       "      <td>9.900326e+11</td>\n",
       "      <td>320.000000</td>\n",
       "      <td>28527682.000000</td>\n",
       "      <td>28472345.750000</td>\n",
       "      <td>803.000000</td>\n",
       "      <td>8.000000</td>\n",
       "      <td>2015.000000</td>\n",
       "      <td>330.000000</td>\n",
       "      <td>2015.000000</td>\n",
       "      <td>True</td>\n",
       "      <td>True</td>\n",
       "      <td>True</td>\n",
       "      <td>False</td>\n",
       "      <td>7.895030e+16</td>\n",
       "      <td>1.735329e+08</td>\n",
       "    </tr>\n",
       "  </tbody>\n",
       "</table>\n",
       "</div>"
      ],
      "text/plain": [
       "           ID_TRANS   ID_INTERNAL  CD_TYPE_ACCT_x  AM_TOT_COLL_EFFECT  \\\n",
       "count  2.824540e+05  2.824540e+05   282454.000000       282454.000000   \n",
       "mean   6.863759e+11  7.145545e+10      215.479724         1639.986638   \n",
       "std    3.611602e+11  8.612086e+10       42.832391       153588.062821   \n",
       "min    0.000000e+00  2.800000e+03       10.000000    -30094873.690000   \n",
       "25%    1.712102e+11  3.001005e+10      200.000000            0.000000   \n",
       "50%    9.212022e+11  6.001351e+10      200.000000            0.000000   \n",
       "75%    9.313647e+11  9.002110e+10      200.000000           25.000000   \n",
       "max    9.999008e+11  9.900326e+11      320.000000     28527682.000000   \n",
       "\n",
       "       AM_TOT_LIAB_EFFECT  CD_TYPE_TRANS  QT_ASSESSMENT    yearprocess  \\\n",
       "count       282454.000000  282454.000000  282454.000000  282454.000000   \n",
       "mean          1257.525587     232.262910       1.024542    2011.988320   \n",
       "std         129573.816248     144.034673       0.368860       0.849134   \n",
       "min      -25740627.090000      33.000000       0.000000    2010.000000   \n",
       "25%              0.000000     111.000000       1.000000    2011.000000   \n",
       "50%              0.000000     207.000000       1.000000    2012.000000   \n",
       "75%              0.090000     225.000000       1.000000    2013.000000   \n",
       "max       28472345.750000     803.000000       8.000000    2015.000000   \n",
       "\n",
       "       CD_TYPE_ACCT_y    yearProcess           10        200        320  \\\n",
       "count   282454.000000  282454.000000       282454     282454     282454   \n",
       "mean       215.473493    2011.987747  0.003678475  0.8614996   0.134822   \n",
       "std         42.915797       0.845386   0.06053889  0.3454251  0.3415339   \n",
       "min         10.000000    2011.000000        False      False      False   \n",
       "25%        200.000000    2011.000000            0          1          0   \n",
       "50%        200.000000    2012.000000            0          1          0   \n",
       "75%        200.000000    2013.000000            0          1          0   \n",
       "max        330.000000    2015.000000         True       True       True   \n",
       "\n",
       "          330         PPaid       Balance  \n",
       "count  282454  2.824540e+05  2.824540e+05  \n",
       "mean        0          -inf  1.889170e+04  \n",
       "std         0           NaN  7.779248e+05  \n",
       "min     False          -inf  3.469447e-18  \n",
       "25%         0 -5.785441e-02  5.900000e-01  \n",
       "50%         0  4.216408e-01  1.098400e+02  \n",
       "75%         0  9.956008e-01  1.500370e+03  \n",
       "max     False  7.895030e+16  1.735329e+08  "
      ]
     },
     "execution_count": 79,
     "metadata": {},
     "output_type": "execute_result"
    }
   ],
   "source": [
    "balance.describe()"
   ]
  },
  {
   "cell_type": "code",
   "execution_count": 84,
   "metadata": {
    "collapsed": false
   },
   "outputs": [
    {
     "data": {
      "text/plain": [
       "yearProcess\n",
       "2011    6362\n",
       "2012    6867\n",
       "2013    6299\n",
       "2014     275\n",
       "2015       5\n",
       "Name: RecKey, dtype: int64"
      ]
     },
     "execution_count": 84,
     "metadata": {},
     "output_type": "execute_result"
    }
   ],
   "source": [
    "balance.groupby('yearProcess').RecKey.nunique()"
   ]
  },
  {
   "cell_type": "code",
   "execution_count": 66,
   "metadata": {
    "collapsed": true
   },
   "outputs": [],
   "source": [
    "warrant = transdata[transdata[\"CD_TYPE_TRANS\"].isin([422])]"
   ]
  },
  {
   "cell_type": "code",
   "execution_count": 67,
   "metadata": {
    "collapsed": false
   },
   "outputs": [
    {
     "data": {
      "text/plain": [
       "yearProcess\n",
       "2011     2092\n",
       "2012     2267\n",
       "2013    12003\n",
       "2014     1024\n",
       "2015       24\n",
       "Name: RecKey, dtype: int64"
      ]
     },
     "execution_count": 67,
     "metadata": {},
     "output_type": "execute_result"
    }
   ],
   "source": [
    "warrant.groupby('yearProcess').RecKey.nunique()"
   ]
  },
  {
   "cell_type": "code",
   "execution_count": 58,
   "metadata": {
    "collapsed": false
   },
   "outputs": [
    {
     "data": {
      "text/html": [
       "<div>\n",
       "<table border=\"1\" class=\"dataframe\">\n",
       "  <thead>\n",
       "    <tr style=\"text-align: right;\">\n",
       "      <th></th>\n",
       "      <th>ID_TRANS</th>\n",
       "      <th>ID_INTERNAL</th>\n",
       "      <th>CD_TYPE_ACCT_x</th>\n",
       "      <th>AM_TOT_COLL_EFFECT</th>\n",
       "      <th>AM_TOT_LIAB_EFFECT</th>\n",
       "      <th>CD_TYPE_TRANS</th>\n",
       "      <th>QT_ASSESSMENT</th>\n",
       "      <th>yearprocess</th>\n",
       "      <th>CD_TYPE_ACCT_y</th>\n",
       "      <th>yearProcess</th>\n",
       "      <th>10</th>\n",
       "      <th>200</th>\n",
       "      <th>320</th>\n",
       "      <th>330</th>\n",
       "      <th>PPaid</th>\n",
       "      <th>Balance</th>\n",
       "    </tr>\n",
       "  </thead>\n",
       "  <tbody>\n",
       "    <tr>\n",
       "      <th>count</th>\n",
       "      <td>1.543820e+05</td>\n",
       "      <td>1.543820e+05</td>\n",
       "      <td>154382.000000</td>\n",
       "      <td>154382</td>\n",
       "      <td>154382.000000</td>\n",
       "      <td>154382</td>\n",
       "      <td>154382.000000</td>\n",
       "      <td>154382.000000</td>\n",
       "      <td>154382.000000</td>\n",
       "      <td>154382.000000</td>\n",
       "      <td>154382</td>\n",
       "      <td>154382</td>\n",
       "      <td>154382</td>\n",
       "      <td>154382</td>\n",
       "      <td>2.370300e+04</td>\n",
       "      <td>2.822500e+04</td>\n",
       "    </tr>\n",
       "    <tr>\n",
       "      <th>mean</th>\n",
       "      <td>9.301291e+11</td>\n",
       "      <td>3.488575e+11</td>\n",
       "      <td>205.387027</td>\n",
       "      <td>0</td>\n",
       "      <td>34.821088</td>\n",
       "      <td>403</td>\n",
       "      <td>1.029518</td>\n",
       "      <td>2011.985128</td>\n",
       "      <td>205.387027</td>\n",
       "      <td>2011.985128</td>\n",
       "      <td>0.001982096</td>\n",
       "      <td>0.9499877</td>\n",
       "      <td>0.04803021</td>\n",
       "      <td>0</td>\n",
       "      <td>NaN</td>\n",
       "      <td>1.579502e+03</td>\n",
       "    </tr>\n",
       "    <tr>\n",
       "      <th>std</th>\n",
       "      <td>4.112596e+09</td>\n",
       "      <td>2.098420e+11</td>\n",
       "      <td>27.095635</td>\n",
       "      <td>0</td>\n",
       "      <td>1235.868330</td>\n",
       "      <td>0</td>\n",
       "      <td>0.211786</td>\n",
       "      <td>0.834168</td>\n",
       "      <td>27.095635</td>\n",
       "      <td>0.834168</td>\n",
       "      <td>0.04447674</td>\n",
       "      <td>0.2179711</td>\n",
       "      <td>0.2138308</td>\n",
       "      <td>0</td>\n",
       "      <td>NaN</td>\n",
       "      <td>1.041339e+06</td>\n",
       "    </tr>\n",
       "    <tr>\n",
       "      <th>min</th>\n",
       "      <td>9.011020e+11</td>\n",
       "      <td>3.000000e+03</td>\n",
       "      <td>10.000000</td>\n",
       "      <td>0</td>\n",
       "      <td>-15949.100000</td>\n",
       "      <td>403</td>\n",
       "      <td>1.000000</td>\n",
       "      <td>2011.000000</td>\n",
       "      <td>10.000000</td>\n",
       "      <td>2011.000000</td>\n",
       "      <td>False</td>\n",
       "      <td>False</td>\n",
       "      <td>False</td>\n",
       "      <td>False</td>\n",
       "      <td>-inf</td>\n",
       "      <td>-8.629239e+07</td>\n",
       "    </tr>\n",
       "    <tr>\n",
       "      <th>25%</th>\n",
       "      <td>9.311190e+11</td>\n",
       "      <td>1.700002e+11</td>\n",
       "      <td>200.000000</td>\n",
       "      <td>0</td>\n",
       "      <td>0.020000</td>\n",
       "      <td>403</td>\n",
       "      <td>1.000000</td>\n",
       "      <td>2011.000000</td>\n",
       "      <td>200.000000</td>\n",
       "      <td>2011.000000</td>\n",
       "      <td>0</td>\n",
       "      <td>1</td>\n",
       "      <td>0</td>\n",
       "      <td>0</td>\n",
       "      <td>9.668109e-01</td>\n",
       "      <td>0.000000e+00</td>\n",
       "    </tr>\n",
       "    <tr>\n",
       "      <th>50%</th>\n",
       "      <td>9.312462e+11</td>\n",
       "      <td>3.500121e+11</td>\n",
       "      <td>200.000000</td>\n",
       "      <td>0</td>\n",
       "      <td>0.350000</td>\n",
       "      <td>403</td>\n",
       "      <td>1.000000</td>\n",
       "      <td>2012.000000</td>\n",
       "      <td>200.000000</td>\n",
       "      <td>2012.000000</td>\n",
       "      <td>0</td>\n",
       "      <td>1</td>\n",
       "      <td>0</td>\n",
       "      <td>0</td>\n",
       "      <td>1.000000e+00</td>\n",
       "      <td>0.000000e+00</td>\n",
       "    </tr>\n",
       "    <tr>\n",
       "      <th>75%</th>\n",
       "      <td>9.313649e+11</td>\n",
       "      <td>5.300121e+11</td>\n",
       "      <td>200.000000</td>\n",
       "      <td>0</td>\n",
       "      <td>2.720000</td>\n",
       "      <td>403</td>\n",
       "      <td>1.000000</td>\n",
       "      <td>2013.000000</td>\n",
       "      <td>200.000000</td>\n",
       "      <td>2013.000000</td>\n",
       "      <td>0</td>\n",
       "      <td>1</td>\n",
       "      <td>0</td>\n",
       "      <td>0</td>\n",
       "      <td>1.000015e+00</td>\n",
       "      <td>1.800000e-01</td>\n",
       "    </tr>\n",
       "    <tr>\n",
       "      <th>max</th>\n",
       "      <td>9.913022e+11</td>\n",
       "      <td>9.900412e+11</td>\n",
       "      <td>320.000000</td>\n",
       "      <td>0</td>\n",
       "      <td>240098.040000</td>\n",
       "      <td>403</td>\n",
       "      <td>8.000000</td>\n",
       "      <td>2015.000000</td>\n",
       "      <td>320.000000</td>\n",
       "      <td>2015.000000</td>\n",
       "      <td>True</td>\n",
       "      <td>True</td>\n",
       "      <td>True</td>\n",
       "      <td>False</td>\n",
       "      <td>inf</td>\n",
       "      <td>1.458422e+08</td>\n",
       "    </tr>\n",
       "  </tbody>\n",
       "</table>\n",
       "</div>"
      ],
      "text/plain": [
       "           ID_TRANS   ID_INTERNAL  CD_TYPE_ACCT_x  AM_TOT_COLL_EFFECT  \\\n",
       "count  1.543820e+05  1.543820e+05   154382.000000              154382   \n",
       "mean   9.301291e+11  3.488575e+11      205.387027                   0   \n",
       "std    4.112596e+09  2.098420e+11       27.095635                   0   \n",
       "min    9.011020e+11  3.000000e+03       10.000000                   0   \n",
       "25%    9.311190e+11  1.700002e+11      200.000000                   0   \n",
       "50%    9.312462e+11  3.500121e+11      200.000000                   0   \n",
       "75%    9.313649e+11  5.300121e+11      200.000000                   0   \n",
       "max    9.913022e+11  9.900412e+11      320.000000                   0   \n",
       "\n",
       "       AM_TOT_LIAB_EFFECT  CD_TYPE_TRANS  QT_ASSESSMENT    yearprocess  \\\n",
       "count       154382.000000         154382  154382.000000  154382.000000   \n",
       "mean            34.821088            403       1.029518    2011.985128   \n",
       "std           1235.868330              0       0.211786       0.834168   \n",
       "min         -15949.100000            403       1.000000    2011.000000   \n",
       "25%              0.020000            403       1.000000    2011.000000   \n",
       "50%              0.350000            403       1.000000    2012.000000   \n",
       "75%              2.720000            403       1.000000    2013.000000   \n",
       "max         240098.040000            403       8.000000    2015.000000   \n",
       "\n",
       "       CD_TYPE_ACCT_y    yearProcess           10        200         320  \\\n",
       "count   154382.000000  154382.000000       154382     154382      154382   \n",
       "mean       205.387027    2011.985128  0.001982096  0.9499877  0.04803021   \n",
       "std         27.095635       0.834168   0.04447674  0.2179711   0.2138308   \n",
       "min         10.000000    2011.000000        False      False       False   \n",
       "25%        200.000000    2011.000000            0          1           0   \n",
       "50%        200.000000    2012.000000            0          1           0   \n",
       "75%        200.000000    2013.000000            0          1           0   \n",
       "max        320.000000    2015.000000         True       True        True   \n",
       "\n",
       "          330         PPaid       Balance  \n",
       "count  154382  2.370300e+04  2.822500e+04  \n",
       "mean        0           NaN  1.579502e+03  \n",
       "std         0           NaN  1.041339e+06  \n",
       "min     False          -inf -8.629239e+07  \n",
       "25%         0  9.668109e-01  0.000000e+00  \n",
       "50%         0  1.000000e+00  0.000000e+00  \n",
       "75%         0  1.000015e+00  1.800000e-01  \n",
       "max     False           inf  1.458422e+08  "
      ]
     },
     "execution_count": 58,
     "metadata": {},
     "output_type": "execute_result"
    }
   ],
   "source": [
    "nd.describe()"
   ]
  },
  {
   "cell_type": "code",
   "execution_count": 47,
   "metadata": {
    "collapsed": false
   },
   "outputs": [],
   "source": [
    "transdata['noticed'] = noticedreceivables['DT_PROCESS']"
   ]
  },
  {
   "cell_type": "code",
   "execution_count": 50,
   "metadata": {
    "collapsed": true
   },
   "outputs": [],
   "source": [
    "#create a df with payments \n",
    "paymenttypes = transdata[transdata[\"CD_TYPE_TRANS\"].isin([210,211,207,201,227,225,209,212,208,202,226])]"
   ]
  },
  {
   "cell_type": "code",
   "execution_count": 51,
   "metadata": {
    "collapsed": false
   },
   "outputs": [],
   "source": [
    "transdata['pay'] = paymenttypes['DT_IN']"
   ]
  },
  {
   "cell_type": "code",
   "execution_count": 53,
   "metadata": {
    "collapsed": false
   },
   "outputs": [
    {
     "data": {
      "text/plain": [
       "5217871"
      ]
     },
     "execution_count": 53,
     "metadata": {},
     "output_type": "execute_result"
    }
   ],
   "source": [
    "len(transdata)"
   ]
  },
  {
   "cell_type": "code",
   "execution_count": null,
   "metadata": {
    "collapsed": false
   },
   "outputs": [],
   "source": [
    "# Payments made after notice date?\n",
    "# I want the max DT_IN by RecKey in paymenttypes\n",
    "# I want the earliers DT_PROCESS by RecKey in noticedreceivables\n",
    "# merge on RecKey\n",
    "# create column with true false DT_IN>DT_PROCESS (payment came after notice)"
   ]
  },
  {
   "cell_type": "code",
   "execution_count": 55,
   "metadata": {
    "collapsed": false
   },
   "outputs": [
    {
     "data": {
      "text/html": [
       "<div>\n",
       "<table border=\"1\" class=\"dataframe\">\n",
       "  <thead>\n",
       "    <tr style=\"text-align: right;\">\n",
       "      <th></th>\n",
       "      <th>ID_TRANS</th>\n",
       "      <th>ID_INTERNAL</th>\n",
       "      <th>CD_TYPE_ACCT_x</th>\n",
       "      <th>AM_TOT_COLL_EFFECT</th>\n",
       "      <th>AM_TOT_LIAB_EFFECT</th>\n",
       "      <th>CD_TYPE_TRANS</th>\n",
       "      <th>QT_ASSESSMENT</th>\n",
       "      <th>yearprocess</th>\n",
       "      <th>CD_TYPE_ACCT_y</th>\n",
       "      <th>yearProcess</th>\n",
       "      <th>10</th>\n",
       "      <th>200</th>\n",
       "      <th>320</th>\n",
       "      <th>330</th>\n",
       "      <th>PPaid</th>\n",
       "      <th>Balance</th>\n",
       "    </tr>\n",
       "  </thead>\n",
       "  <tbody>\n",
       "    <tr>\n",
       "      <th>count</th>\n",
       "      <td>1.584460e+05</td>\n",
       "      <td>1.584460e+05</td>\n",
       "      <td>158446.000000</td>\n",
       "      <td>158446</td>\n",
       "      <td>158446.000000</td>\n",
       "      <td>158446</td>\n",
       "      <td>158446.000000</td>\n",
       "      <td>158446.000000</td>\n",
       "      <td>158446.000000</td>\n",
       "      <td>158446.000000</td>\n",
       "      <td>158446</td>\n",
       "      <td>158446</td>\n",
       "      <td>158446</td>\n",
       "      <td>158446</td>\n",
       "      <td>2.412300e+04</td>\n",
       "      <td>2.882800e+04</td>\n",
       "    </tr>\n",
       "    <tr>\n",
       "      <th>mean</th>\n",
       "      <td>9.307041e+11</td>\n",
       "      <td>3.493665e+11</td>\n",
       "      <td>206.874014</td>\n",
       "      <td>0</td>\n",
       "      <td>22.031532</td>\n",
       "      <td>401</td>\n",
       "      <td>1.022588</td>\n",
       "      <td>2012.027732</td>\n",
       "      <td>206.874014</td>\n",
       "      <td>2012.027732</td>\n",
       "      <td>0.001640938</td>\n",
       "      <td>0.9384775</td>\n",
       "      <td>0.0598816</td>\n",
       "      <td>0</td>\n",
       "      <td>NaN</td>\n",
       "      <td>6.348620e+03</td>\n",
       "    </tr>\n",
       "    <tr>\n",
       "      <th>std</th>\n",
       "      <td>8.654018e+09</td>\n",
       "      <td>2.078582e+11</td>\n",
       "      <td>29.568333</td>\n",
       "      <td>0</td>\n",
       "      <td>904.672871</td>\n",
       "      <td>0</td>\n",
       "      <td>0.178106</td>\n",
       "      <td>0.841656</td>\n",
       "      <td>29.568333</td>\n",
       "      <td>0.841656</td>\n",
       "      <td>0.04047537</td>\n",
       "      <td>0.2402871</td>\n",
       "      <td>0.2372681</td>\n",
       "      <td>0</td>\n",
       "      <td>NaN</td>\n",
       "      <td>9.633712e+05</td>\n",
       "    </tr>\n",
       "    <tr>\n",
       "      <th>min</th>\n",
       "      <td>9.010019e+11</td>\n",
       "      <td>3.000000e+03</td>\n",
       "      <td>10.000000</td>\n",
       "      <td>0</td>\n",
       "      <td>-76850.170000</td>\n",
       "      <td>401</td>\n",
       "      <td>1.000000</td>\n",
       "      <td>2011.000000</td>\n",
       "      <td>10.000000</td>\n",
       "      <td>2011.000000</td>\n",
       "      <td>False</td>\n",
       "      <td>False</td>\n",
       "      <td>False</td>\n",
       "      <td>False</td>\n",
       "      <td>-inf</td>\n",
       "      <td>-3.157243e+07</td>\n",
       "    </tr>\n",
       "    <tr>\n",
       "      <th>25%</th>\n",
       "      <td>9.311186e+11</td>\n",
       "      <td>1.700122e+11</td>\n",
       "      <td>200.000000</td>\n",
       "      <td>0</td>\n",
       "      <td>0.010000</td>\n",
       "      <td>401</td>\n",
       "      <td>1.000000</td>\n",
       "      <td>2011.000000</td>\n",
       "      <td>200.000000</td>\n",
       "      <td>2011.000000</td>\n",
       "      <td>0</td>\n",
       "      <td>1</td>\n",
       "      <td>0</td>\n",
       "      <td>0</td>\n",
       "      <td>9.696415e-01</td>\n",
       "      <td>0.000000e+00</td>\n",
       "    </tr>\n",
       "    <tr>\n",
       "      <th>50%</th>\n",
       "      <td>9.312466e+11</td>\n",
       "      <td>3.500113e+11</td>\n",
       "      <td>200.000000</td>\n",
       "      <td>0</td>\n",
       "      <td>0.130000</td>\n",
       "      <td>401</td>\n",
       "      <td>1.000000</td>\n",
       "      <td>2012.000000</td>\n",
       "      <td>200.000000</td>\n",
       "      <td>2012.000000</td>\n",
       "      <td>0</td>\n",
       "      <td>1</td>\n",
       "      <td>0</td>\n",
       "      <td>0</td>\n",
       "      <td>1.000000e+00</td>\n",
       "      <td>0.000000e+00</td>\n",
       "    </tr>\n",
       "    <tr>\n",
       "      <th>75%</th>\n",
       "      <td>9.313649e+11</td>\n",
       "      <td>5.300112e+11</td>\n",
       "      <td>200.000000</td>\n",
       "      <td>0</td>\n",
       "      <td>1.220000</td>\n",
       "      <td>401</td>\n",
       "      <td>1.000000</td>\n",
       "      <td>2013.000000</td>\n",
       "      <td>200.000000</td>\n",
       "      <td>2013.000000</td>\n",
       "      <td>0</td>\n",
       "      <td>1</td>\n",
       "      <td>0</td>\n",
       "      <td>0</td>\n",
       "      <td>1.000014e+00</td>\n",
       "      <td>1.500000e-01</td>\n",
       "    </tr>\n",
       "    <tr>\n",
       "      <th>max</th>\n",
       "      <td>9.914023e+11</td>\n",
       "      <td>9.900426e+11</td>\n",
       "      <td>320.000000</td>\n",
       "      <td>0</td>\n",
       "      <td>170106.020000</td>\n",
       "      <td>401</td>\n",
       "      <td>10.000000</td>\n",
       "      <td>2015.000000</td>\n",
       "      <td>320.000000</td>\n",
       "      <td>2015.000000</td>\n",
       "      <td>True</td>\n",
       "      <td>True</td>\n",
       "      <td>True</td>\n",
       "      <td>False</td>\n",
       "      <td>inf</td>\n",
       "      <td>1.140573e+08</td>\n",
       "    </tr>\n",
       "  </tbody>\n",
       "</table>\n",
       "</div>"
      ],
      "text/plain": [
       "           ID_TRANS   ID_INTERNAL  CD_TYPE_ACCT_x  AM_TOT_COLL_EFFECT  \\\n",
       "count  1.584460e+05  1.584460e+05   158446.000000              158446   \n",
       "mean   9.307041e+11  3.493665e+11      206.874014                   0   \n",
       "std    8.654018e+09  2.078582e+11       29.568333                   0   \n",
       "min    9.010019e+11  3.000000e+03       10.000000                   0   \n",
       "25%    9.311186e+11  1.700122e+11      200.000000                   0   \n",
       "50%    9.312466e+11  3.500113e+11      200.000000                   0   \n",
       "75%    9.313649e+11  5.300112e+11      200.000000                   0   \n",
       "max    9.914023e+11  9.900426e+11      320.000000                   0   \n",
       "\n",
       "       AM_TOT_LIAB_EFFECT  CD_TYPE_TRANS  QT_ASSESSMENT    yearprocess  \\\n",
       "count       158446.000000         158446  158446.000000  158446.000000   \n",
       "mean            22.031532            401       1.022588    2012.027732   \n",
       "std            904.672871              0       0.178106       0.841656   \n",
       "min         -76850.170000            401       1.000000    2011.000000   \n",
       "25%              0.010000            401       1.000000    2011.000000   \n",
       "50%              0.130000            401       1.000000    2012.000000   \n",
       "75%              1.220000            401       1.000000    2013.000000   \n",
       "max         170106.020000            401      10.000000    2015.000000   \n",
       "\n",
       "       CD_TYPE_ACCT_y    yearProcess           10        200        320  \\\n",
       "count   158446.000000  158446.000000       158446     158446     158446   \n",
       "mean       206.874014    2012.027732  0.001640938  0.9384775  0.0598816   \n",
       "std         29.568333       0.841656   0.04047537  0.2402871  0.2372681   \n",
       "min         10.000000    2011.000000        False      False      False   \n",
       "25%        200.000000    2011.000000            0          1          0   \n",
       "50%        200.000000    2012.000000            0          1          0   \n",
       "75%        200.000000    2013.000000            0          1          0   \n",
       "max        320.000000    2015.000000         True       True       True   \n",
       "\n",
       "          330         PPaid       Balance  \n",
       "count  158446  2.412300e+04  2.882800e+04  \n",
       "mean        0           NaN  6.348620e+03  \n",
       "std         0           NaN  9.633712e+05  \n",
       "min     False          -inf -3.157243e+07  \n",
       "25%         0  9.696415e-01  0.000000e+00  \n",
       "50%         0  1.000000e+00  0.000000e+00  \n",
       "75%         0  1.000014e+00  1.500000e-01  \n",
       "max     False           inf  1.140573e+08  "
      ]
     },
     "execution_count": 55,
     "metadata": {},
     "output_type": "execute_result"
    }
   ],
   "source": [
    "noticedreceivables.describe()"
   ]
  },
  {
   "cell_type": "code",
   "execution_count": 56,
   "metadata": {
    "collapsed": false
   },
   "outputs": [
    {
     "data": {
      "text/plain": [
       "yearProcess\n",
       "2011    49080\n",
       "2012    52886\n",
       "2013    48397\n",
       "2014     2791\n",
       "2015       25\n",
       "Name: RecKey, dtype: int64"
      ]
     },
     "execution_count": 56,
     "metadata": {},
     "output_type": "execute_result"
    }
   ],
   "source": [
    "#unique RecKey notices\n",
    "noticedreceivables.groupby('yearProcess').RecKey.nunique()"
   ]
  },
  {
   "cell_type": "code",
   "execution_count": null,
   "metadata": {
    "collapsed": true
   },
   "outputs": [],
   "source": [
    "#h=merge(e, g, on='RecKey', suffixes=('_o', '_p'), copy=True)\n",
    "#h['DaysMinPay'] = h['DT_IN']-h['DT_Pay_First']\n",
    "\n",
    "#transdata['ADJ] = pd.merge(citidata, dfstationdata, on=['start station id', 'start station id'])"
   ]
  },
  {
   "cell_type": "code",
   "execution_count": 44,
   "metadata": {
    "collapsed": false
   },
   "outputs": [
    {
     "ename": "ValueError",
     "evalue": "X and y have incompatible shapes.\nX has 1 samples, but y has 5217871.",
     "output_type": "error",
     "traceback": [
      "\u001b[0;31m---------------------------------------------------------------------------\u001b[0m",
      "\u001b[0;31mValueError\u001b[0m                                Traceback (most recent call last)",
      "\u001b[0;32m<ipython-input-44-d6600f6672e9>\u001b[0m in \u001b[0;36m<module>\u001b[0;34m()\u001b[0m\n\u001b[1;32m     10\u001b[0m \u001b[0;34m\u001b[0m\u001b[0m\n\u001b[1;32m     11\u001b[0m \u001b[0;31m# we create an instance of Neighbours Classifier and fit the data.\u001b[0m\u001b[0;34m\u001b[0m\u001b[0;34m\u001b[0m\u001b[0m\n\u001b[0;32m---> 12\u001b[0;31m \u001b[0mlogreg\u001b[0m\u001b[0;34m.\u001b[0m\u001b[0mfit\u001b[0m\u001b[0;34m(\u001b[0m\u001b[0mX\u001b[0m\u001b[0;34m,\u001b[0m \u001b[0mY\u001b[0m\u001b[0;34m)\u001b[0m\u001b[0;34m\u001b[0m\u001b[0m\n\u001b[0m\u001b[1;32m     13\u001b[0m \u001b[0;34m\u001b[0m\u001b[0m\n\u001b[1;32m     14\u001b[0m \u001b[0;31m# Plot the decision boundary. For that, we will assign a color to each\u001b[0m\u001b[0;34m\u001b[0m\u001b[0;34m\u001b[0m\u001b[0m\n",
      "\u001b[0;32m/Users/lanimc/anaconda/lib/python2.7/site-packages/sklearn/svm/base.pyc\u001b[0m in \u001b[0;36mfit\u001b[0;34m(self, X, y)\u001b[0m\n\u001b[1;32m    685\u001b[0m             raise ValueError(\"X and y have incompatible shapes.\\n\"\n\u001b[1;32m    686\u001b[0m                              \u001b[0;34m\"X has %s samples, but y has %s.\"\u001b[0m \u001b[0;34m%\u001b[0m\u001b[0;34m\u001b[0m\u001b[0m\n\u001b[0;32m--> 687\u001b[0;31m                              (X.shape[0], y_ind.shape[0]))\n\u001b[0m\u001b[1;32m    688\u001b[0m \u001b[0;34m\u001b[0m\u001b[0m\n\u001b[1;32m    689\u001b[0m         \u001b[0mliblinear\u001b[0m\u001b[0;34m.\u001b[0m\u001b[0mset_verbosity_wrap\u001b[0m\u001b[0;34m(\u001b[0m\u001b[0mself\u001b[0m\u001b[0;34m.\u001b[0m\u001b[0mverbose\u001b[0m\u001b[0;34m)\u001b[0m\u001b[0;34m\u001b[0m\u001b[0m\n",
      "\u001b[0;31mValueError\u001b[0m: X and y have incompatible shapes.\nX has 1 samples, but y has 5217871."
     ]
    }
   ],
   "source": [
    "#logistic regression\n",
    "\n",
    "\n",
    "X = transdata['CD_TYPE_ACCT_x']  # we only take the first two features.\n",
    "Y = transdata['Balance']\n",
    "\n",
    "h = .02  # step size in the mesh\n",
    "\n",
    "logreg = linear_model.LogisticRegression(C=1e5)\n",
    "\n",
    "# we create an instance of Neighbours Classifier and fit the data.\n",
    "logreg.fit(X, Y)\n",
    "\n",
    "# Plot the decision boundary. For that, we will assign a color to each\n",
    "# point in the mesh [x_min, m_max]x[y_min, y_max].\n",
    "x_min, x_max = X[:, 0].min() - .5, X[:, 0].max() + .5\n",
    "y_min, y_max = X[:, 1].min() - .5, X[:, 1].max() + .5\n",
    "xx, yy = np.meshgrid(np.arange(x_min, x_max, h), np.arange(y_min, y_max, h))\n",
    "Z = logreg.predict(np.c_[xx.ravel(), yy.ravel()])\n",
    "\n",
    "# Put the result into a color plot\n",
    "Z = Z.reshape(xx.shape)\n",
    "plt.figure(1, figsize=(4, 3))\n",
    "plt.pcolormesh(xx, yy, Z, cmap=plt.cm.Paired)\n",
    "\n",
    "# Plot also the training points\n",
    "plt.scatter(X[:, 0], X[:, 1], c=Y, edgecolors='k', cmap=plt.cm.Paired)\n",
    "plt.xlabel('Sepal length')\n",
    "plt.ylabel('Sepal width')\n",
    "\n",
    "plt.xlim(xx.min(), xx.max())\n",
    "plt.ylim(yy.min(), yy.max())\n",
    "plt.xticks(())\n",
    "plt.yticks(())\n",
    "\n",
    "plt.show()"
   ]
  },
  {
   "cell_type": "code",
   "execution_count": null,
   "metadata": {
    "collapsed": true
   },
   "outputs": [],
   "source": []
  }
 ],
 "metadata": {
  "kernelspec": {
   "display_name": "Python 2",
   "language": "python",
   "name": "python2"
  },
  "language_info": {
   "codemirror_mode": {
    "name": "ipython",
    "version": 2
   },
   "file_extension": ".py",
   "mimetype": "text/x-python",
   "name": "python",
   "nbconvert_exporter": "python",
   "pygments_lexer": "ipython2",
   "version": "2.7.10"
  }
 },
 "nbformat": 4,
 "nbformat_minor": 0
}
