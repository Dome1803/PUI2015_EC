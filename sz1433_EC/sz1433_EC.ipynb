{
 "cells": [
  {
   "cell_type": "code",
   "execution_count": 1,
   "metadata": {
    "collapsed": false
   },
   "outputs": [
    {
     "name": "stdout",
     "output_type": "stream",
     "text": [
      "Populating the interactive namespace from numpy and matplotlib\n"
     ]
    }
   ],
   "source": [
    "import numpy as np\n",
    "import pandas as pd\n",
    "import geopandas as gpd\n",
    "import statsmodels.formula.api as smf\n",
    "from statsmodels.graphics.api import abline_plot\n",
    "import pylab as pl\n",
    "%pylab inline"
   ]
  },
  {
   "cell_type": "code",
   "execution_count": 2,
   "metadata": {
    "collapsed": false
   },
   "outputs": [
    {
     "data": {
      "text/plain": [
       "Index([u'TEL', u'NAME', u'URL', u'ADDRESS1', u'ADDRESS2', u'CITY', u'ZIP'], dtype='object')"
      ]
     },
     "execution_count": 2,
     "metadata": {},
     "output_type": "execute_result"
    }
   ],
   "source": [
    "#importing galleries data\n",
    "art_gallery = pd.read_csv('ART_GALLERY.csv')\n",
    "art_gallery.columns"
   ]
  },
  {
   "cell_type": "code",
   "execution_count": 3,
   "metadata": {
    "collapsed": false
   },
   "outputs": [
    {
     "data": {
      "text/plain": [
       "Index([u'NAME', u'TEL', u'URL', u'ADDRESS1', u'ADDRES2', u'CITY', u'ZIP'], dtype='object')"
      ]
     },
     "execution_count": 3,
     "metadata": {},
     "output_type": "execute_result"
    }
   ],
   "source": [
    "#importing theaters data\n",
    "theater = pd.read_csv('DOITT_THEATER_01_13SEPT2010.csv')\n",
    "theater.columns"
   ]
  },
  {
   "cell_type": "code",
   "execution_count": 4,
   "metadata": {
    "collapsed": false
   },
   "outputs": [
    {
     "data": {
      "text/plain": [
       "Index([u'TEL', u'NAME', u'URL', u'ADRESS1', u'ADDRESS2', u'CITY', u'ZIP'], dtype='object')"
      ]
     },
     "execution_count": 4,
     "metadata": {},
     "output_type": "execute_result"
    }
   ],
   "source": [
    "#importing museums data\n",
    "museum = pd.read_csv('MUSEUM.csv')\n",
    "museum.columns"
   ]
  },
  {
   "cell_type": "code",
   "execution_count": 5,
   "metadata": {
    "collapsed": false
   },
   "outputs": [
    {
     "data": {
      "text/plain": [
       "Index([u'Hospital Name', u'City', u'Staffed\\nBeds', u'Total\\nDischarges',\n",
       "       u'Patient\\nDays', u'Gross Patient\\nRevenue ($000)'],\n",
       "      dtype='object')"
      ]
     },
     "execution_count": 5,
     "metadata": {},
     "output_type": "execute_result"
    }
   ],
   "source": [
    "#importing New York state's hospitals data\n",
    "hospitals_ny = pd.read_csv('Hospitals_NY.csv')\n",
    "hospitals_ny.columns"
   ]
  },
  {
   "cell_type": "code",
   "execution_count": 6,
   "metadata": {
    "collapsed": false
   },
   "outputs": [],
   "source": [
    "#grouping the data based on zip codes\n",
    "grouped_gallery = art_gallery.groupby('ZIP').agg('count').reset_index()"
   ]
  },
  {
   "cell_type": "code",
   "execution_count": 7,
   "metadata": {
    "collapsed": false
   },
   "outputs": [],
   "source": [
    "grouped_theater = theater.groupby('ZIP').agg('count').reset_index()"
   ]
  },
  {
   "cell_type": "code",
   "execution_count": 8,
   "metadata": {
    "collapsed": false
   },
   "outputs": [],
   "source": [
    "grouped_museum = museum.groupby('ZIP').agg('count').reset_index()"
   ]
  },
  {
   "cell_type": "code",
   "execution_count": 9,
   "metadata": {
    "collapsed": false
   },
   "outputs": [],
   "source": [
    "#importing data for each zip code and neighborhood\n",
    "neighborhood_zip = pd.read_csv('BOROUGH_NEIGHBORHOOD_ZIPCODES.csv')"
   ]
  },
  {
   "cell_type": "code",
   "execution_count": 10,
   "metadata": {
    "collapsed": false
   },
   "outputs": [],
   "source": [
    "neighborhood_zip['ZIP'] = neighborhood_zip['ZIP Codes']"
   ]
  },
  {
   "cell_type": "code",
   "execution_count": 11,
   "metadata": {
    "collapsed": false
   },
   "outputs": [
    {
     "data": {
      "text/html": [
       "<div>\n",
       "<table border=\"1\" class=\"dataframe\">\n",
       "  <thead>\n",
       "    <tr style=\"text-align: right;\">\n",
       "      <th></th>\n",
       "      <th>Borough</th>\n",
       "      <th>Neighborhood</th>\n",
       "      <th>ZIP Codes</th>\n",
       "      <th>ZIP</th>\n",
       "    </tr>\n",
       "  </thead>\n",
       "  <tbody>\n",
       "    <tr>\n",
       "      <th>0</th>\n",
       "      <td>Bronx</td>\n",
       "      <td>Central Bronx</td>\n",
       "      <td>10453, 10457, 10460</td>\n",
       "      <td>10453, 10457, 10460</td>\n",
       "    </tr>\n",
       "    <tr>\n",
       "      <th>1</th>\n",
       "      <td>NaN</td>\n",
       "      <td>Bronx Park and Fordham</td>\n",
       "      <td>10458, 10467, 10468</td>\n",
       "      <td>10458, 10467, 10468</td>\n",
       "    </tr>\n",
       "    <tr>\n",
       "      <th>2</th>\n",
       "      <td>NaN</td>\n",
       "      <td>High Bridge and Morrisania</td>\n",
       "      <td>10451, 10452, 10456</td>\n",
       "      <td>10451, 10452, 10456</td>\n",
       "    </tr>\n",
       "    <tr>\n",
       "      <th>3</th>\n",
       "      <td>NaN</td>\n",
       "      <td>Hunts Point and Mott Haven</td>\n",
       "      <td>10454, 10455, 10459, 10474</td>\n",
       "      <td>10454, 10455, 10459, 10474</td>\n",
       "    </tr>\n",
       "    <tr>\n",
       "      <th>4</th>\n",
       "      <td>NaN</td>\n",
       "      <td>Kingsbridge and Riverdale</td>\n",
       "      <td>10463, 10471</td>\n",
       "      <td>10463, 10471</td>\n",
       "    </tr>\n",
       "  </tbody>\n",
       "</table>\n",
       "</div>"
      ],
      "text/plain": [
       "  Borough                Neighborhood                   ZIP Codes  \\\n",
       "0   Bronx               Central Bronx         10453, 10457, 10460   \n",
       "1     NaN      Bronx Park and Fordham         10458, 10467, 10468   \n",
       "2     NaN  High Bridge and Morrisania         10451, 10452, 10456   \n",
       "3     NaN  Hunts Point and Mott Haven  10454, 10455, 10459, 10474   \n",
       "4     NaN   Kingsbridge and Riverdale                10463, 10471   \n",
       "\n",
       "                          ZIP  \n",
       "0         10453, 10457, 10460  \n",
       "1         10458, 10467, 10468  \n",
       "2         10451, 10452, 10456  \n",
       "3  10454, 10455, 10459, 10474  \n",
       "4                10463, 10471  "
      ]
     },
     "execution_count": 11,
     "metadata": {},
     "output_type": "execute_result"
    }
   ],
   "source": [
    "neighborhood_zip.head()"
   ]
  },
  {
   "cell_type": "code",
   "execution_count": 12,
   "metadata": {
    "collapsed": false
   },
   "outputs": [],
   "source": [
    "#cleaning and filling NANs with their above value\n",
    "neighborhood_zip.Borough = neighborhood_zip.Borough.fillna(method = 'ffill')"
   ]
  },
  {
   "cell_type": "code",
   "execution_count": 13,
   "metadata": {
    "collapsed": false
   },
   "outputs": [
    {
     "data": {
      "text/html": [
       "<div>\n",
       "<table border=\"1\" class=\"dataframe\">\n",
       "  <thead>\n",
       "    <tr style=\"text-align: right;\">\n",
       "      <th></th>\n",
       "      <th>Borough</th>\n",
       "      <th>Neighborhood</th>\n",
       "      <th>ZIP Codes</th>\n",
       "      <th>ZIP</th>\n",
       "    </tr>\n",
       "  </thead>\n",
       "  <tbody>\n",
       "    <tr>\n",
       "      <th>0</th>\n",
       "      <td>Bronx</td>\n",
       "      <td>Central Bronx</td>\n",
       "      <td>10453, 10457, 10460</td>\n",
       "      <td>10453, 10457, 10460</td>\n",
       "    </tr>\n",
       "    <tr>\n",
       "      <th>1</th>\n",
       "      <td>Bronx</td>\n",
       "      <td>Bronx Park and Fordham</td>\n",
       "      <td>10458, 10467, 10468</td>\n",
       "      <td>10458, 10467, 10468</td>\n",
       "    </tr>\n",
       "    <tr>\n",
       "      <th>2</th>\n",
       "      <td>Bronx</td>\n",
       "      <td>High Bridge and Morrisania</td>\n",
       "      <td>10451, 10452, 10456</td>\n",
       "      <td>10451, 10452, 10456</td>\n",
       "    </tr>\n",
       "    <tr>\n",
       "      <th>3</th>\n",
       "      <td>Bronx</td>\n",
       "      <td>Hunts Point and Mott Haven</td>\n",
       "      <td>10454, 10455, 10459, 10474</td>\n",
       "      <td>10454, 10455, 10459, 10474</td>\n",
       "    </tr>\n",
       "    <tr>\n",
       "      <th>4</th>\n",
       "      <td>Bronx</td>\n",
       "      <td>Kingsbridge and Riverdale</td>\n",
       "      <td>10463, 10471</td>\n",
       "      <td>10463, 10471</td>\n",
       "    </tr>\n",
       "  </tbody>\n",
       "</table>\n",
       "</div>"
      ],
      "text/plain": [
       "  Borough                Neighborhood                   ZIP Codes  \\\n",
       "0   Bronx               Central Bronx         10453, 10457, 10460   \n",
       "1   Bronx      Bronx Park and Fordham         10458, 10467, 10468   \n",
       "2   Bronx  High Bridge and Morrisania         10451, 10452, 10456   \n",
       "3   Bronx  Hunts Point and Mott Haven  10454, 10455, 10459, 10474   \n",
       "4   Bronx   Kingsbridge and Riverdale                10463, 10471   \n",
       "\n",
       "                          ZIP  \n",
       "0         10453, 10457, 10460  \n",
       "1         10458, 10467, 10468  \n",
       "2         10451, 10452, 10456  \n",
       "3  10454, 10455, 10459, 10474  \n",
       "4                10463, 10471  "
      ]
     },
     "execution_count": 13,
     "metadata": {},
     "output_type": "execute_result"
    }
   ],
   "source": [
    "neighborhood_zip.head()"
   ]
  },
  {
   "cell_type": "code",
   "execution_count": 14,
   "metadata": {
    "collapsed": false
   },
   "outputs": [
    {
     "name": "stderr",
     "output_type": "stream",
     "text": [
      "/home/soheil/anaconda/lib/python2.7/site-packages/IPython/kernel/__main__.py:7: SettingWithCopyWarning: \n",
      "A value is trying to be set on a copy of a slice from a DataFrame\n",
      "\n",
      "See the the caveats in the documentation: http://pandas.pydata.org/pandas-docs/stable/indexing.html#indexing-view-versus-copy\n"
     ]
    }
   ],
   "source": [
    "#find out the zip code and the neighborhood assigned to that\n",
    "#this is not the most effitient way of doing this though\n",
    "art_gallery['Neighborhood'] = ' '\n",
    "for i in xrange(len(art_gallery)):\n",
    "    for j in xrange(len(neighborhood_zip)):\n",
    "        if str(art_gallery['ZIP'][i]) in neighborhood_zip['ZIP'][j]:\n",
    "            art_gallery['Neighborhood'][i] = neighborhood_zip['Neighborhood'][j]\n",
    "            break"
   ]
  },
  {
   "cell_type": "code",
   "execution_count": 15,
   "metadata": {
    "collapsed": false
   },
   "outputs": [
    {
     "data": {
      "text/html": [
       "<div>\n",
       "<table border=\"1\" class=\"dataframe\">\n",
       "  <thead>\n",
       "    <tr style=\"text-align: right;\">\n",
       "      <th></th>\n",
       "      <th>TEL</th>\n",
       "      <th>NAME</th>\n",
       "      <th>URL</th>\n",
       "      <th>ADDRESS1</th>\n",
       "      <th>ADDRESS2</th>\n",
       "      <th>CITY</th>\n",
       "      <th>ZIP</th>\n",
       "      <th>Neighborhood</th>\n",
       "    </tr>\n",
       "  </thead>\n",
       "  <tbody>\n",
       "    <tr>\n",
       "      <th>0</th>\n",
       "      <td>(212) 396-1822</td>\n",
       "      <td>O'reilly William &amp; Co Ltd</td>\n",
       "      <td>http://www.nyc.com/arts__attractions/oreilly_w...</td>\n",
       "      <td>52 E 76th St</td>\n",
       "      <td>NaN</td>\n",
       "      <td>New York</td>\n",
       "      <td>10021</td>\n",
       "      <td>Upper East Side</td>\n",
       "    </tr>\n",
       "    <tr>\n",
       "      <th>1</th>\n",
       "      <td>(212) 219-9213</td>\n",
       "      <td>Organization of Independent Artists - Gallery 402</td>\n",
       "      <td>http://www.nonprofitgallery.com/main/usa/ny/oi...</td>\n",
       "      <td>19 Hudson St.</td>\n",
       "      <td>NaN</td>\n",
       "      <td>New York</td>\n",
       "      <td>10013</td>\n",
       "      <td>Greenwich Village and Soho</td>\n",
       "    </tr>\n",
       "    <tr>\n",
       "      <th>2</th>\n",
       "      <td>(212) 879-2415</td>\n",
       "      <td>Owen Gallery</td>\n",
       "      <td>http://www.owengallery.com/about-us</td>\n",
       "      <td>19 E 75th St</td>\n",
       "      <td>NaN</td>\n",
       "      <td>New York</td>\n",
       "      <td>10021</td>\n",
       "      <td>Upper East Side</td>\n",
       "    </tr>\n",
       "    <tr>\n",
       "      <th>3</th>\n",
       "      <td>(212) 647-1044</td>\n",
       "      <td>P P O W Gallerie</td>\n",
       "      <td>http://www.ppowgallery.com/</td>\n",
       "      <td>511 W 25th St</td>\n",
       "      <td>NaN</td>\n",
       "      <td>New York</td>\n",
       "      <td>10001</td>\n",
       "      <td>Chelsea and Clinton</td>\n",
       "    </tr>\n",
       "    <tr>\n",
       "      <th>4</th>\n",
       "      <td>(212) 941-8642</td>\n",
       "      <td>P P O W Inc</td>\n",
       "      <td>http://www.nyc.com/arts__attractions/p_p_o_w_i...</td>\n",
       "      <td>476 Broome St</td>\n",
       "      <td>NaN</td>\n",
       "      <td>New York</td>\n",
       "      <td>10013</td>\n",
       "      <td>Greenwich Village and Soho</td>\n",
       "    </tr>\n",
       "  </tbody>\n",
       "</table>\n",
       "</div>"
      ],
      "text/plain": [
       "              TEL                                               NAME  \\\n",
       "0  (212) 396-1822                          O'reilly William & Co Ltd   \n",
       "1  (212) 219-9213  Organization of Independent Artists - Gallery 402   \n",
       "2  (212) 879-2415                                       Owen Gallery   \n",
       "3  (212) 647-1044                                   P P O W Gallerie   \n",
       "4  (212) 941-8642                                        P P O W Inc   \n",
       "\n",
       "                                                 URL       ADDRESS1 ADDRESS2  \\\n",
       "0  http://www.nyc.com/arts__attractions/oreilly_w...   52 E 76th St      NaN   \n",
       "1  http://www.nonprofitgallery.com/main/usa/ny/oi...  19 Hudson St.      NaN   \n",
       "2                http://www.owengallery.com/about-us   19 E 75th St      NaN   \n",
       "3                        http://www.ppowgallery.com/  511 W 25th St      NaN   \n",
       "4  http://www.nyc.com/arts__attractions/p_p_o_w_i...  476 Broome St      NaN   \n",
       "\n",
       "       CITY    ZIP                Neighborhood  \n",
       "0  New York  10021             Upper East Side  \n",
       "1  New York  10013  Greenwich Village and Soho  \n",
       "2  New York  10021             Upper East Side  \n",
       "3  New York  10001         Chelsea and Clinton  \n",
       "4  New York  10013  Greenwich Village and Soho  "
      ]
     },
     "execution_count": 15,
     "metadata": {},
     "output_type": "execute_result"
    }
   ],
   "source": [
    "art_gallery.head()"
   ]
  },
  {
   "cell_type": "code",
   "execution_count": 16,
   "metadata": {
    "collapsed": false
   },
   "outputs": [
    {
     "name": "stderr",
     "output_type": "stream",
     "text": [
      "/home/soheil/anaconda/lib/python2.7/site-packages/IPython/kernel/__main__.py:5: SettingWithCopyWarning: \n",
      "A value is trying to be set on a copy of a slice from a DataFrame\n",
      "\n",
      "See the the caveats in the documentation: http://pandas.pydata.org/pandas-docs/stable/indexing.html#indexing-view-versus-copy\n"
     ]
    }
   ],
   "source": [
    "museum['Neighborhood'] = ' '\n",
    "for i in xrange(len(museum)):\n",
    "    for j in xrange(len(neighborhood_zip)):\n",
    "        if str(museum['ZIP'][i]) in neighborhood_zip['ZIP'][j]:\n",
    "            museum['Neighborhood'][i] = neighborhood_zip['Neighborhood'][j]\n",
    "            break"
   ]
  },
  {
   "cell_type": "code",
   "execution_count": 17,
   "metadata": {
    "collapsed": false
   },
   "outputs": [
    {
     "name": "stderr",
     "output_type": "stream",
     "text": [
      "/home/soheil/anaconda/lib/python2.7/site-packages/IPython/kernel/__main__.py:5: SettingWithCopyWarning: \n",
      "A value is trying to be set on a copy of a slice from a DataFrame\n",
      "\n",
      "See the the caveats in the documentation: http://pandas.pydata.org/pandas-docs/stable/indexing.html#indexing-view-versus-copy\n"
     ]
    }
   ],
   "source": [
    "theater['Neighborhood'] = ' '\n",
    "for i in xrange(len(theater)):\n",
    "    for j in xrange(len(neighborhood_zip)):\n",
    "        if str(theater['ZIP'][i]) in neighborhood_zip['ZIP'][j]:\n",
    "            theater['Neighborhood'][i] = neighborhood_zip['Neighborhood'][j]\n",
    "            break"
   ]
  },
  {
   "cell_type": "code",
   "execution_count": 18,
   "metadata": {
    "collapsed": false
   },
   "outputs": [],
   "source": [
    "#generating a list of cities to clean our hospital data\n",
    "list_of_nyc_cities = ['New York', 'Bronx', 'Flushing', 'Jamaica', 'Forest Hills', 'Brooklyn', 'Staten Island', 'Long Island City']\n",
    "hospitals_nyc = hospitals_ny[hospitals_ny['City'].isin(list_of_nyc_cities)].reset_index()"
   ]
  },
  {
   "cell_type": "code",
   "execution_count": 19,
   "metadata": {
    "collapsed": false
   },
   "outputs": [
    {
     "name": "stderr",
     "output_type": "stream",
     "text": [
      "/home/soheil/anaconda/lib/python2.7/site-packages/IPython/kernel/__main__.py:4: SettingWithCopyWarning: \n",
      "A value is trying to be set on a copy of a slice from a DataFrame\n",
      "\n",
      "See the the caveats in the documentation: http://pandas.pydata.org/pandas-docs/stable/indexing.html#indexing-view-versus-copy\n"
     ]
    }
   ],
   "source": [
    "# generating a list of cities of Queens borough to clean our data. We will use this list agagin later on\n",
    "cities_in_queens = ['Flushing', 'Jamaica', 'Forest Hills', 'Long Island City', 'Bayside', 'Far Rockaway', \\\n",
    "                    'East Elmhurst', 'Ridgewood', 'Woodside', 'Saint Albans', 'Middle Village', 'Rego Park', \\\n",
    "                   'Jackson Heights', 'Astoria']\n",
    "\n",
    "hospitals_nyc['City'][hospitals_nyc['City'].isin(cities_in_queens)] = 'Queens'"
   ]
  },
  {
   "cell_type": "code",
   "execution_count": 20,
   "metadata": {
    "collapsed": false
   },
   "outputs": [],
   "source": [
    "#importing the 311 data\n",
    "number_of_311_2015 = pd.read_csv('311_Service_Requests_from_01_2015_to_Present.csv')"
   ]
  },
  {
   "cell_type": "code",
   "execution_count": 21,
   "metadata": {
    "collapsed": false
   },
   "outputs": [
    {
     "data": {
      "text/html": [
       "<div>\n",
       "<table border=\"1\" class=\"dataframe\">\n",
       "  <thead>\n",
       "    <tr style=\"text-align: right;\">\n",
       "      <th></th>\n",
       "      <th>Unique Key</th>\n",
       "      <th>Created Date</th>\n",
       "      <th>Incident Zip</th>\n",
       "      <th>Incident Address</th>\n",
       "      <th>City</th>\n",
       "      <th>Borough</th>\n",
       "    </tr>\n",
       "  </thead>\n",
       "  <tbody>\n",
       "    <tr>\n",
       "      <th>0</th>\n",
       "      <td>32200745</td>\n",
       "      <td>12/15/2015 02:14:17 AM</td>\n",
       "      <td>10003</td>\n",
       "      <td>34 EAST 4 STREET</td>\n",
       "      <td>NEW YORK</td>\n",
       "      <td>MANHATTAN</td>\n",
       "    </tr>\n",
       "    <tr>\n",
       "      <th>1</th>\n",
       "      <td>32202272</td>\n",
       "      <td>12/15/2015 02:14:17 AM</td>\n",
       "      <td>10019</td>\n",
       "      <td>859 9 AVENUE</td>\n",
       "      <td>NEW YORK</td>\n",
       "      <td>MANHATTAN</td>\n",
       "    </tr>\n",
       "    <tr>\n",
       "      <th>2</th>\n",
       "      <td>32200538</td>\n",
       "      <td>12/15/2015 02:12:22 AM</td>\n",
       "      <td>11249</td>\n",
       "      <td>50 NORTH 3 STREET</td>\n",
       "      <td>BROOKLYN</td>\n",
       "      <td>BROOKLYN</td>\n",
       "    </tr>\n",
       "    <tr>\n",
       "      <th>3</th>\n",
       "      <td>32199445</td>\n",
       "      <td>12/15/2015 02:11:42 AM</td>\n",
       "      <td>10036</td>\n",
       "      <td>647 9 AVENUE</td>\n",
       "      <td>NEW YORK</td>\n",
       "      <td>MANHATTAN</td>\n",
       "    </tr>\n",
       "    <tr>\n",
       "      <th>4</th>\n",
       "      <td>32202273</td>\n",
       "      <td>12/15/2015 02:03:37 AM</td>\n",
       "      <td>11206</td>\n",
       "      <td>631 WILLOUGHBY AVENUE</td>\n",
       "      <td>BROOKLYN</td>\n",
       "      <td>BROOKLYN</td>\n",
       "    </tr>\n",
       "  </tbody>\n",
       "</table>\n",
       "</div>"
      ],
      "text/plain": [
       "   Unique Key            Created Date Incident Zip       Incident Address  \\\n",
       "0    32200745  12/15/2015 02:14:17 AM        10003       34 EAST 4 STREET   \n",
       "1    32202272  12/15/2015 02:14:17 AM        10019           859 9 AVENUE   \n",
       "2    32200538  12/15/2015 02:12:22 AM        11249      50 NORTH 3 STREET   \n",
       "3    32199445  12/15/2015 02:11:42 AM        10036           647 9 AVENUE   \n",
       "4    32202273  12/15/2015 02:03:37 AM        11206  631 WILLOUGHBY AVENUE   \n",
       "\n",
       "       City    Borough  \n",
       "0  NEW YORK  MANHATTAN  \n",
       "1  NEW YORK  MANHATTAN  \n",
       "2  BROOKLYN   BROOKLYN  \n",
       "3  NEW YORK  MANHATTAN  \n",
       "4  BROOKLYN   BROOKLYN  "
      ]
     },
     "execution_count": 21,
     "metadata": {},
     "output_type": "execute_result"
    }
   ],
   "source": [
    "number_of_311_2015.head()"
   ]
  },
  {
   "cell_type": "code",
   "execution_count": 22,
   "metadata": {
    "collapsed": false
   },
   "outputs": [],
   "source": [
    "grouped_number_of_311_2015 = number_of_311_2015.groupby('Incident Zip').agg('count').reset_index()"
   ]
  },
  {
   "cell_type": "code",
   "execution_count": 23,
   "metadata": {
    "collapsed": false
   },
   "outputs": [
    {
     "data": {
      "text/html": [
       "<div>\n",
       "<table border=\"1\" class=\"dataframe\">\n",
       "  <thead>\n",
       "    <tr style=\"text-align: right;\">\n",
       "      <th></th>\n",
       "      <th>Incident Zip</th>\n",
       "      <th>Unique Key</th>\n",
       "      <th>Created Date</th>\n",
       "      <th>Incident Address</th>\n",
       "      <th>City</th>\n",
       "      <th>Borough</th>\n",
       "    </tr>\n",
       "  </thead>\n",
       "  <tbody>\n",
       "    <tr>\n",
       "      <th>0</th>\n",
       "      <td>0</td>\n",
       "      <td>13</td>\n",
       "      <td>13</td>\n",
       "      <td>12</td>\n",
       "      <td>5</td>\n",
       "      <td>13</td>\n",
       "    </tr>\n",
       "    <tr>\n",
       "      <th>1</th>\n",
       "      <td>0000</td>\n",
       "      <td>2</td>\n",
       "      <td>2</td>\n",
       "      <td>2</td>\n",
       "      <td>2</td>\n",
       "      <td>2</td>\n",
       "    </tr>\n",
       "    <tr>\n",
       "      <th>2</th>\n",
       "      <td>00000</td>\n",
       "      <td>40</td>\n",
       "      <td>40</td>\n",
       "      <td>40</td>\n",
       "      <td>28</td>\n",
       "      <td>40</td>\n",
       "    </tr>\n",
       "    <tr>\n",
       "      <th>3</th>\n",
       "      <td>000000</td>\n",
       "      <td>3</td>\n",
       "      <td>3</td>\n",
       "      <td>3</td>\n",
       "      <td>3</td>\n",
       "      <td>3</td>\n",
       "    </tr>\n",
       "    <tr>\n",
       "      <th>4</th>\n",
       "      <td>0000000</td>\n",
       "      <td>2</td>\n",
       "      <td>2</td>\n",
       "      <td>1</td>\n",
       "      <td>1</td>\n",
       "      <td>2</td>\n",
       "    </tr>\n",
       "  </tbody>\n",
       "</table>\n",
       "</div>"
      ],
      "text/plain": [
       "  Incident Zip  Unique Key  Created Date  Incident Address  City  Borough\n",
       "0            0          13            13                12     5       13\n",
       "1         0000           2             2                 2     2        2\n",
       "2        00000          40            40                40    28       40\n",
       "3       000000           3             3                 3     3        3\n",
       "4      0000000           2             2                 1     1        2"
      ]
     },
     "execution_count": 23,
     "metadata": {},
     "output_type": "execute_result"
    }
   ],
   "source": [
    "grouped_number_of_311_2015.head()"
   ]
  },
  {
   "cell_type": "code",
   "execution_count": 24,
   "metadata": {
    "collapsed": false
   },
   "outputs": [
    {
     "name": "stderr",
     "output_type": "stream",
     "text": [
      "/home/soheil/anaconda/lib/python2.7/site-packages/IPython/kernel/__main__.py:5: SettingWithCopyWarning: \n",
      "A value is trying to be set on a copy of a slice from a DataFrame\n",
      "\n",
      "See the the caveats in the documentation: http://pandas.pydata.org/pandas-docs/stable/indexing.html#indexing-view-versus-copy\n"
     ]
    }
   ],
   "source": [
    "#the zip codes in 311 data was messy and in string format here we only pick the zip codes that are 5 numbers\n",
    "#and make the string an integer so that we can compare them for later analysis\n",
    "for i in xrange(len(grouped_number_of_311_2015)):\n",
    "    if len(grouped_number_of_311_2015['Incident Zip'][i]) == 5:\n",
    "        grouped_number_of_311_2015['Incident Zip'][i] = int(grouped_number_of_311_2015['Incident Zip'][i])"
   ]
  },
  {
   "cell_type": "code",
   "execution_count": 25,
   "metadata": {
    "collapsed": false
   },
   "outputs": [],
   "source": [
    "# we create a list of all zip codes available in our recreational facilities data\n",
    "list_of_zipcodes = museum.ZIP.unique()\n",
    "list_of_zipcodes = np.append(list_of_zipcodes, theater.ZIP.unique())\n",
    "list_of_zipcodes = np.append(list_of_zipcodes, art_gallery.ZIP.unique())\n"
   ]
  },
  {
   "cell_type": "code",
   "execution_count": 26,
   "metadata": {
    "collapsed": false
   },
   "outputs": [
    {
     "data": {
      "text/plain": [
       "108"
      ]
     },
     "execution_count": 26,
     "metadata": {},
     "output_type": "execute_result"
    }
   ],
   "source": [
    "list_of_zipcodes = np.unique(list_of_zipcodes)\n",
    "list_of_zipcodes.size"
   ]
  },
  {
   "cell_type": "code",
   "execution_count": 27,
   "metadata": {
    "collapsed": false
   },
   "outputs": [],
   "source": [
    "#create a new data set with only 2 useful columns\n",
    "galleries_per_zip = {'ZIP': grouped_gallery.ZIP, 'NUMBER_OF_GALLERIES': grouped_gallery.NAME}\n",
    "galleries_per_zip = pd.DataFrame(galleries_per_zip).set_index('ZIP')"
   ]
  },
  {
   "cell_type": "code",
   "execution_count": 28,
   "metadata": {
    "collapsed": false
   },
   "outputs": [],
   "source": [
    "museum_per_zip = {'ZIP': grouped_museum.ZIP, 'NUMBER_OF_MUSEUM': grouped_museum.NAME}\n",
    "museum_per_zip = pd.DataFrame(museum_per_zip).set_index('ZIP')"
   ]
  },
  {
   "cell_type": "code",
   "execution_count": 29,
   "metadata": {
    "collapsed": false
   },
   "outputs": [],
   "source": [
    "theater_per_zip = {'ZIP': grouped_theater.ZIP, 'NUMBER_OF_THEATER': grouped_theater.NAME}\n",
    "theater_per_zip = pd.DataFrame(theater_per_zip).set_index('ZIP')"
   ]
  },
  {
   "cell_type": "code",
   "execution_count": 30,
   "metadata": {
    "collapsed": false
   },
   "outputs": [],
   "source": [
    "number_of_311_per_zip = {'ZIP': grouped_number_of_311_2015['Incident Zip'], 'NUMBER_OF_COMPLAINS': grouped_number_of_311_2015['Unique Key']}\n",
    "number_of_311_per_zip = pd.DataFrame(number_of_311_per_zip)\n",
    "number_of_311_per_zip = number_of_311_per_zip[number_of_311_per_zip['ZIP'].isin(list_of_zipcodes)]\n",
    "number_of_311_per_zip = number_of_311_per_zip.set_index('ZIP')\n"
   ]
  },
  {
   "cell_type": "code",
   "execution_count": 31,
   "metadata": {
    "collapsed": false
   },
   "outputs": [],
   "source": [
    "#creating our final data frame\n",
    "final_df = {'ZIP' : list_of_zipcodes}\n",
    "final_df = pd.DataFrame(final_df).set_index('ZIP')"
   ]
  },
  {
   "cell_type": "code",
   "execution_count": 32,
   "metadata": {
    "collapsed": false
   },
   "outputs": [],
   "source": [
    "final_df = final_df.combine_first(theater_per_zip)\n",
    "final_df = final_df.combine_first(museum_per_zip)\n",
    "final_df = final_df.combine_first(galleries_per_zip)\n",
    "final_df = final_df.combine_first(number_of_311_per_zip)"
   ]
  },
  {
   "cell_type": "code",
   "execution_count": 33,
   "metadata": {
    "collapsed": true
   },
   "outputs": [],
   "source": [
    "final_df['NUMBER_OF_ALL_REC'] = final_df.NUMBER_OF_THEATER  + final_df.NUMBER_OF_MUSEUM + final_df.NUMBER_OF_GALLERIES"
   ]
  },
  {
   "cell_type": "code",
   "execution_count": 34,
   "metadata": {
    "collapsed": false
   },
   "outputs": [
    {
     "data": {
      "text/plain": [
       "<matplotlib.text.Text at 0x7f0a23330450>"
      ]
     },
     "execution_count": 34,
     "metadata": {},
     "output_type": "execute_result"
    },
    {
     "name": "stderr",
     "output_type": "stream",
     "text": [
      "/home/soheil/anaconda/lib/python2.7/site-packages/matplotlib/collections.py:590: FutureWarning: elementwise comparison failed; returning scalar instead, but in the future will perform elementwise comparison\n",
      "  if self._edgecolors == str('face'):\n"
     ]
    },
    {
     "data": {
      "image/png": "[encoded data removed]",
      "text/plain": [
       "<matplotlib.figure.Figure at 0x7f09d1985310>"
      ]
     },
     "metadata": {},
     "output_type": "display_data"
    }
   ],
   "source": [
    "figure, ax = plt.subplots(figsize=(12,10))\n",
    "ax.scatter(final_df.NUMBER_OF_THEATER, final_df.NUMBER_OF_COMPLAINS)\n",
    "linearmodel_theater = smf.ols(formula = 'NUMBER_OF_COMPLAINS ~ NUMBER_OF_THEATER', data = final_df).fit()\n",
    "abline_plot(model_results=linearmodel_theater, ax=ax, color='red')\n",
    "\n",
    "# ax.set_title('Scatter Plot of Number of Complains vs. Number of Theaters per Zip Code', fontsize = 20)\n",
    "ax.set_ylabel('Number of Complains', fontsize = 18)\n",
    "ax.set_xlabel('Number of Theaters', fontsize = 18)\n"
   ]
  },
  {
   "cell_type": "code",
   "execution_count": 35,
   "metadata": {
    "collapsed": false
   },
   "outputs": [
    {
     "name": "stdout",
     "output_type": "stream",
     "text": [
      "                             OLS Regression Results                            \n",
      "===============================================================================\n",
      "Dep. Variable:     NUMBER_OF_COMPLAINS   R-squared:                       0.046\n",
      "Model:                             OLS   Adj. R-squared:                 -0.004\n",
      "Method:                  Least Squares   F-statistic:                    0.9210\n",
      "Date:                 Thu, 17 Dec 2015   Prob (F-statistic):              0.349\n",
      "Time:                         02:57:52   Log-Likelihood:                -202.60\n",
      "No. Observations:                   21   AIC:                             409.2\n",
      "Df Residuals:                       19   BIC:                             411.3\n",
      "Df Model:                            1                                         \n",
      "Covariance Type:             nonrobust                                         \n",
      "=====================================================================================\n",
      "                        coef    std err          t      P>|t|      [95.0% Conf. Int.]\n",
      "-------------------------------------------------------------------------------------\n",
      "Intercept          9590.1820    993.451      9.653      0.000      7510.864  1.17e+04\n",
      "NUMBER_OF_THEATER    86.5188     90.154      0.960      0.349      -102.176   275.214\n",
      "==============================================================================\n",
      "Omnibus:                        2.321   Durbin-Watson:                   1.636\n",
      "Prob(Omnibus):                  0.313   Jarque-Bera (JB):                1.181\n",
      "Skew:                          -0.570   Prob(JB):                        0.554\n",
      "Kurtosis:                       3.225   Cond. No.                         12.8\n",
      "==============================================================================\n",
      "\n",
      "Warnings:\n",
      "[1] Standard Errors assume that the covariance matrix of the errors is correctly specified.\n"
     ]
    }
   ],
   "source": [
    "print(linearmodel_theater.summary())"
   ]
  },
  {
   "cell_type": "code",
   "execution_count": 36,
   "metadata": {
    "collapsed": false
   },
   "outputs": [
    {
     "data": {
      "text/plain": [
       "<matplotlib.text.Text at 0x7f09daa54ad0>"
      ]
     },
     "execution_count": 36,
     "metadata": {},
     "output_type": "execute_result"
    },
    {
     "data": {
      "image/png": "[encoded data removed]",
      "text/plain": [
       "<matplotlib.figure.Figure at 0x7f09daa39fd0>"
      ]
     },
     "metadata": {},
     "output_type": "display_data"
    }
   ],
   "source": [
    "figure, ax = plt.subplots(figsize=(12,10))\n",
    "ax.scatter(final_df.NUMBER_OF_GALLERIES, final_df.NUMBER_OF_COMPLAINS)\n",
    "linearmodel_galleries = smf.ols(formula = 'NUMBER_OF_COMPLAINS ~ NUMBER_OF_GALLERIES', data = final_df).fit()\n",
    "abline_plot(model_results=linearmodel_galleries, ax=ax, color='red')\n",
    "\n",
    "# ax.set_title('Scatter Plot of Number of Complains vs. Number of Galleries per Zip Code', fontsize = 20)\n",
    "ax.set_ylabel('Number of Complains', fontsize = 18)\n",
    "ax.set_xlabel('Number of Galleries', fontsize = 18)\n"
   ]
  },
  {
   "cell_type": "code",
   "execution_count": 37,
   "metadata": {
    "collapsed": false
   },
   "outputs": [
    {
     "name": "stdout",
     "output_type": "stream",
     "text": [
      "                             OLS Regression Results                            \n",
      "===============================================================================\n",
      "Dep. Variable:     NUMBER_OF_COMPLAINS   R-squared:                       0.011\n",
      "Model:                             OLS   Adj. R-squared:                 -0.001\n",
      "Method:                  Least Squares   F-statistic:                    0.9392\n",
      "Date:                 Thu, 17 Dec 2015   Prob (F-statistic):              0.335\n",
      "Time:                         02:57:52   Log-Likelihood:                -851.42\n",
      "No. Observations:                   85   AIC:                             1707.\n",
      "Df Residuals:                       83   BIC:                             1712.\n",
      "Df Model:                            1                                         \n",
      "Covariance Type:             nonrobust                                         \n",
      "=======================================================================================\n",
      "                          coef    std err          t      P>|t|      [95.0% Conf. Int.]\n",
      "---------------------------------------------------------------------------------------\n",
      "Intercept            1.119e+04    652.746     17.149      0.000      9895.925  1.25e+04\n",
      "NUMBER_OF_GALLERIES   -24.2464     25.019     -0.969      0.335       -74.009    25.516\n",
      "==============================================================================\n",
      "Omnibus:                        1.681   Durbin-Watson:                   1.506\n",
      "Prob(Omnibus):                  0.431   Jarque-Bera (JB):                1.318\n",
      "Skew:                          -0.091   Prob(JB):                        0.517\n",
      "Kurtosis:                       2.418   Cond. No.                         28.6\n",
      "==============================================================================\n",
      "\n",
      "Warnings:\n",
      "[1] Standard Errors assume that the covariance matrix of the errors is correctly specified.\n"
     ]
    }
   ],
   "source": [
    "print (linearmodel_galleries.summary())"
   ]
  },
  {
   "cell_type": "code",
   "execution_count": 38,
   "metadata": {
    "collapsed": false
   },
   "outputs": [
    {
     "data": {
      "text/plain": [
       "<matplotlib.text.Text at 0x7f09daa1a890>"
      ]
     },
     "execution_count": 38,
     "metadata": {},
     "output_type": "execute_result"
    },
    {
     "data": {
      "image/png": "[encoded data removed]",
      "text/plain": [
       "<matplotlib.figure.Figure at 0x7f09db608f50>"
      ]
     },
     "metadata": {},
     "output_type": "display_data"
    }
   ],
   "source": [
    "figure, ax = plt.subplots(figsize=(12,10))\n",
    "ax.scatter(final_df.NUMBER_OF_MUSEUM, final_df.NUMBER_OF_COMPLAINS)\n",
    "linearmodel_museum = smf.ols(formula = 'NUMBER_OF_COMPLAINS ~ NUMBER_OF_MUSEUM', data = final_df).fit()\n",
    "abline_plot(model_results=linearmodel_museum, ax=ax, color='red')\n",
    "\n",
    "# ax.set_title('Scatter Plot of Number of Complains vs. Number of Museums per Zip Code', fontsize = 20)\n",
    "ax.set_ylabel('Number of Complains', fontsize = 18)\n",
    "ax.set_xlabel('Number of Museums', fontsize = 18)\n"
   ]
  },
  {
   "cell_type": "code",
   "execution_count": 39,
   "metadata": {
    "collapsed": false
   },
   "outputs": [
    {
     "name": "stdout",
     "output_type": "stream",
     "text": [
      "                             OLS Regression Results                            \n",
      "===============================================================================\n",
      "Dep. Variable:     NUMBER_OF_COMPLAINS   R-squared:                       0.003\n",
      "Model:                             OLS   Adj. R-squared:                 -0.015\n",
      "Method:                  Least Squares   F-statistic:                    0.1660\n",
      "Date:                 Thu, 17 Dec 2015   Prob (F-statistic):              0.685\n",
      "Time:                         02:57:52   Log-Likelihood:                -567.37\n",
      "No. Observations:                   56   AIC:                             1139.\n",
      "Df Residuals:                       54   BIC:                             1143.\n",
      "Df Model:                            1                                         \n",
      "Covariance Type:             nonrobust                                         \n",
      "====================================================================================\n",
      "                       coef    std err          t      P>|t|      [95.0% Conf. Int.]\n",
      "------------------------------------------------------------------------------------\n",
      "Intercept         1.102e+04   1404.554      7.848      0.000      8206.585  1.38e+04\n",
      "NUMBER_OF_MUSEUM  -203.8940    500.510     -0.407      0.685     -1207.357   799.569\n",
      "==============================================================================\n",
      "Omnibus:                        0.938   Durbin-Watson:                   1.696\n",
      "Prob(Omnibus):                  0.626   Jarque-Bera (JB):                1.013\n",
      "Skew:                           0.270   Prob(JB):                        0.603\n",
      "Kurtosis:                       2.622   Cond. No.                         5.18\n",
      "==============================================================================\n",
      "\n",
      "Warnings:\n",
      "[1] Standard Errors assume that the covariance matrix of the errors is correctly specified.\n"
     ]
    }
   ],
   "source": [
    "print (linearmodel_museum.summary())"
   ]
  },
  {
   "cell_type": "code",
   "execution_count": 40,
   "metadata": {
    "collapsed": false
   },
   "outputs": [
    {
     "data": {
      "text/plain": [
       "<matplotlib.text.Text at 0x7f09d8b5c850>"
      ]
     },
     "execution_count": 40,
     "metadata": {},
     "output_type": "execute_result"
    },
    {
     "data": {
      "image/png": "[encoded data removed]",
      "text/plain": [
       "<matplotlib.figure.Figure at 0x7f09d8b3f210>"
      ]
     },
     "metadata": {},
     "output_type": "display_data"
    }
   ],
   "source": [
    "figure, ax = plt.subplots(figsize=(12,10))\n",
    "ax.scatter(final_df.NUMBER_OF_ALL_REC, final_df.NUMBER_OF_COMPLAINS)\n",
    "linearmodel_all_rec = smf.ols(formula = 'NUMBER_OF_COMPLAINS ~ NUMBER_OF_ALL_REC', data = final_df).fit()\n",
    "abline_plot(model_results=linearmodel_all_rec, ax=ax, color='red')\n",
    "\n",
    "# ax.set_title('Scatter Plot of Number of Complains vs. Number of all Recreational Facilities per Zip Code', fontsize = 20)\n",
    "ax.set_ylabel('Number of Complains', fontsize = 18)\n",
    "ax.set_xlabel('Number of all Recreational Facilities', fontsize = 18)"
   ]
  },
  {
   "cell_type": "code",
   "execution_count": 41,
   "metadata": {
    "collapsed": false
   },
   "outputs": [
    {
     "name": "stdout",
     "output_type": "stream",
     "text": [
      "                             OLS Regression Results                            \n",
      "===============================================================================\n",
      "Dep. Variable:     NUMBER_OF_COMPLAINS   R-squared:                       0.029\n",
      "Model:                             OLS   Adj. R-squared:                 -0.036\n",
      "Method:                  Least Squares   F-statistic:                    0.4423\n",
      "Date:                 Thu, 17 Dec 2015   Prob (F-statistic):              0.516\n",
      "Time:                         02:57:53   Log-Likelihood:                -160.63\n",
      "No. Observations:                   17   AIC:                             325.3\n",
      "Df Residuals:                       15   BIC:                             326.9\n",
      "Df Model:                            1                                         \n",
      "Covariance Type:             nonrobust                                         \n",
      "=====================================================================================\n",
      "                        coef    std err          t      P>|t|      [95.0% Conf. Int.]\n",
      "-------------------------------------------------------------------------------------\n",
      "Intercept           1.16e+04   1242.853      9.333      0.000      8950.334  1.42e+04\n",
      "NUMBER_OF_ALL_REC   -14.6189     21.982     -0.665      0.516       -61.473    32.236\n",
      "==============================================================================\n",
      "Omnibus:                        1.510   Durbin-Watson:                   2.173\n",
      "Prob(Omnibus):                  0.470   Jarque-Bera (JB):                0.866\n",
      "Skew:                          -0.548   Prob(JB):                        0.649\n",
      "Kurtosis:                       2.851   Cond. No.                         88.6\n",
      "==============================================================================\n",
      "\n",
      "Warnings:\n",
      "[1] Standard Errors assume that the covariance matrix of the errors is correctly specified.\n"
     ]
    },
    {
     "name": "stderr",
     "output_type": "stream",
     "text": [
      "/home/soheil/anaconda/lib/python2.7/site-packages/scipy/stats/stats.py:1233: UserWarning: kurtosistest only valid for n>=20 ... continuing anyway, n=17\n",
      "  int(n))\n"
     ]
    }
   ],
   "source": [
    "print (linearmodel_all_rec.summary())"
   ]
  },
  {
   "cell_type": "code",
   "execution_count": 42,
   "metadata": {
    "collapsed": true
   },
   "outputs": [],
   "source": [
    "linearmodel_all_var = smf.ols(formula = 'NUMBER_OF_COMPLAINS ~ NUMBER_OF_THEATER + NUMBER_OF_GALLERIES + NUMBER_OF_MUSEUM', data = final_df).fit()\n"
   ]
  },
  {
   "cell_type": "code",
   "execution_count": 43,
   "metadata": {
    "collapsed": false
   },
   "outputs": [
    {
     "name": "stdout",
     "output_type": "stream",
     "text": [
      "                             OLS Regression Results                            \n",
      "===============================================================================\n",
      "Dep. Variable:     NUMBER_OF_COMPLAINS   R-squared:                       0.070\n",
      "Model:                             OLS   Adj. R-squared:                 -0.145\n",
      "Method:                  Least Squares   F-statistic:                    0.3240\n",
      "Date:                 Thu, 17 Dec 2015   Prob (F-statistic):              0.808\n",
      "Time:                         02:57:53   Log-Likelihood:                -160.27\n",
      "No. Observations:                   17   AIC:                             328.5\n",
      "Df Residuals:                       13   BIC:                             331.9\n",
      "Df Model:                            3                                         \n",
      "Covariance Type:             nonrobust                                         \n",
      "=======================================================================================\n",
      "                          coef    std err          t      P>|t|      [95.0% Conf. Int.]\n",
      "---------------------------------------------------------------------------------------\n",
      "Intercept            1.114e+04   1774.551      6.277      0.000      7304.487   1.5e+04\n",
      "NUMBER_OF_THEATER      39.7508     81.529      0.488      0.634      -136.383   215.885\n",
      "NUMBER_OF_GALLERIES   -21.3739     32.071     -0.666      0.517       -90.660    47.912\n",
      "NUMBER_OF_MUSEUM       95.4819    600.141      0.159      0.876     -1201.044  1392.008\n",
      "==============================================================================\n",
      "Omnibus:                        1.041   Durbin-Watson:                   1.822\n",
      "Prob(Omnibus):                  0.594   Jarque-Bera (JB):                0.556\n",
      "Skew:                          -0.436   Prob(JB):                        0.757\n",
      "Kurtosis:                       2.841   Cond. No.                         107.\n",
      "==============================================================================\n",
      "\n",
      "Warnings:\n",
      "[1] Standard Errors assume that the covariance matrix of the errors is correctly specified.\n"
     ]
    }
   ],
   "source": [
    "print (linearmodel_all_var.summary())"
   ]
  },
  {
   "cell_type": "markdown",
   "metadata": {},
   "source": [
    "## Boroughs"
   ]
  },
  {
   "cell_type": "code",
   "execution_count": 44,
   "metadata": {
    "collapsed": false
   },
   "outputs": [
    {
     "name": "stderr",
     "output_type": "stream",
     "text": [
      "/home/soheil/anaconda/lib/python2.7/site-packages/IPython/kernel/__main__.py:2: SettingWithCopyWarning: \n",
      "A value is trying to be set on a copy of a slice from a DataFrame\n",
      "\n",
      "See the the caveats in the documentation: http://pandas.pydata.org/pandas-docs/stable/indexing.html#indexing-view-versus-copy\n",
      "  from IPython.kernel.zmq import kernelapp as app\n",
      "/home/soheil/anaconda/lib/python2.7/site-packages/IPython/kernel/__main__.py:3: SettingWithCopyWarning: \n",
      "A value is trying to be set on a copy of a slice from a DataFrame\n",
      "\n",
      "See the the caveats in the documentation: http://pandas.pydata.org/pandas-docs/stable/indexing.html#indexing-view-versus-copy\n",
      "  app.launch_new_instance()\n",
      "/home/soheil/anaconda/lib/python2.7/site-packages/IPython/kernel/__main__.py:4: SettingWithCopyWarning: \n",
      "A value is trying to be set on a copy of a slice from a DataFrame\n",
      "\n",
      "See the the caveats in the documentation: http://pandas.pydata.org/pandas-docs/stable/indexing.html#indexing-view-versus-copy\n"
     ]
    }
   ],
   "source": [
    "#modifing the name of the cities so they all indicate the name of their borough\n",
    "art_gallery.CITY[art_gallery.CITY.isin(cities_in_queens)] = 'Queens'\n",
    "museum.CITY[museum.CITY.isin(cities_in_queens)] = 'Queens'\n",
    "theater.CITY[theater.CITY.isin(cities_in_queens)] = 'Queens'"
   ]
  },
  {
   "cell_type": "code",
   "execution_count": 45,
   "metadata": {
    "collapsed": true
   },
   "outputs": [],
   "source": [
    "grouped_gallery_borough = art_gallery.groupby('CITY').agg('count').reset_index()\n",
    "grouped_museum_borough = museum.groupby('CITY').agg('count').reset_index()\n",
    "grouped_theater_borough = theater.groupby('CITY').agg('count').reset_index()"
   ]
  },
  {
   "cell_type": "code",
   "execution_count": 46,
   "metadata": {
    "collapsed": false
   },
   "outputs": [],
   "source": [
    "galleries_per_borough = {'BOROUGH': grouped_gallery_borough.CITY, 'NUMBER_OF_GALLERIES': grouped_gallery_borough.NAME}\n",
    "galleries_per_borough = pd.DataFrame(galleries_per_borough).set_index('BOROUGH')"
   ]
  },
  {
   "cell_type": "code",
   "execution_count": 47,
   "metadata": {
    "collapsed": true
   },
   "outputs": [],
   "source": [
    "museum_per_borough = {'BOROUGH': grouped_museum_borough.CITY, 'NUMBER_OF_MUSEUMS': grouped_museum_borough.NAME}\n",
    "museum_per_borough = pd.DataFrame(museum_per_borough).set_index('BOROUGH')"
   ]
  },
  {
   "cell_type": "code",
   "execution_count": 48,
   "metadata": {
    "collapsed": true
   },
   "outputs": [],
   "source": [
    "theater_per_borough = {'BOROUGH': grouped_theater_borough.CITY, 'NUMBER_OF_THEATERS': grouped_theater_borough.NAME}\n",
    "theater_per_borough = pd.DataFrame(theater_per_borough).set_index('BOROUGH')"
   ]
  },
  {
   "cell_type": "code",
   "execution_count": 49,
   "metadata": {
    "collapsed": false
   },
   "outputs": [
    {
     "name": "stderr",
     "output_type": "stream",
     "text": [
      "/home/soheil/anaconda/lib/python2.7/site-packages/IPython/kernel/__main__.py:2: SettingWithCopyWarning: \n",
      "A value is trying to be set on a copy of a slice from a DataFrame\n",
      "\n",
      "See the the caveats in the documentation: http://pandas.pydata.org/pandas-docs/stable/indexing.html#indexing-view-versus-copy\n",
      "  from IPython.kernel.zmq import kernelapp as app\n",
      "/home/soheil/anaconda/lib/python2.7/site-packages/IPython/kernel/__main__.py:3: SettingWithCopyWarning: \n",
      "A value is trying to be set on a copy of a slice from a DataFrame\n",
      "\n",
      "See the the caveats in the documentation: http://pandas.pydata.org/pandas-docs/stable/indexing.html#indexing-view-versus-copy\n",
      "  app.launch_new_instance()\n",
      "/home/soheil/anaconda/lib/python2.7/site-packages/IPython/kernel/__main__.py:4: SettingWithCopyWarning: \n",
      "A value is trying to be set on a copy of a slice from a DataFrame\n",
      "\n",
      "See the the caveats in the documentation: http://pandas.pydata.org/pandas-docs/stable/indexing.html#indexing-view-versus-copy\n",
      "/home/soheil/anaconda/lib/python2.7/site-packages/IPython/kernel/__main__.py:5: SettingWithCopyWarning: \n",
      "A value is trying to be set on a copy of a slice from a DataFrame\n",
      "\n",
      "See the the caveats in the documentation: http://pandas.pydata.org/pandas-docs/stable/indexing.html#indexing-view-versus-copy\n",
      "/home/soheil/anaconda/lib/python2.7/site-packages/IPython/kernel/__main__.py:6: SettingWithCopyWarning: \n",
      "A value is trying to be set on a copy of a slice from a DataFrame\n",
      "\n",
      "See the the caveats in the documentation: http://pandas.pydata.org/pandas-docs/stable/indexing.html#indexing-view-versus-copy\n"
     ]
    }
   ],
   "source": [
    "#change the format of borough names to match our other datasets\n",
    "number_of_311_2015.Borough[number_of_311_2015.Borough == 'MANHATTAN'] = 'New York'\n",
    "number_of_311_2015.Borough[number_of_311_2015.Borough == 'BROOKLYN'] = 'Brooklyn'\n",
    "number_of_311_2015.Borough[number_of_311_2015.Borough == 'QUEENS'] = 'Queens'\n",
    "number_of_311_2015.Borough[number_of_311_2015.Borough == 'BRONX'] = 'Bronx'\n",
    "number_of_311_2015.Borough[number_of_311_2015.Borough == 'STATEN ISLAND'] = 'Staten Island'"
   ]
  },
  {
   "cell_type": "code",
   "execution_count": 50,
   "metadata": {
    "collapsed": true
   },
   "outputs": [],
   "source": [
    "grouped_number_of_311_2015_borough = number_of_311_2015.groupby('Borough').agg('count').reset_index()"
   ]
  },
  {
   "cell_type": "code",
   "execution_count": 51,
   "metadata": {
    "collapsed": false
   },
   "outputs": [
    {
     "data": {
      "text/html": [
       "<div>\n",
       "<table border=\"1\" class=\"dataframe\">\n",
       "  <thead>\n",
       "    <tr style=\"text-align: right;\">\n",
       "      <th></th>\n",
       "      <th>Borough</th>\n",
       "      <th>Unique Key</th>\n",
       "      <th>Created Date</th>\n",
       "      <th>Incident Zip</th>\n",
       "      <th>Incident Address</th>\n",
       "      <th>City</th>\n",
       "    </tr>\n",
       "  </thead>\n",
       "  <tbody>\n",
       "    <tr>\n",
       "      <th>0</th>\n",
       "      <td>Bronx</td>\n",
       "      <td>340420</td>\n",
       "      <td>340420</td>\n",
       "      <td>325502</td>\n",
       "      <td>297185</td>\n",
       "      <td>325577</td>\n",
       "    </tr>\n",
       "    <tr>\n",
       "      <th>1</th>\n",
       "      <td>Brooklyn</td>\n",
       "      <td>578494</td>\n",
       "      <td>578494</td>\n",
       "      <td>560732</td>\n",
       "      <td>486030</td>\n",
       "      <td>560809</td>\n",
       "    </tr>\n",
       "    <tr>\n",
       "      <th>2</th>\n",
       "      <td>New York</td>\n",
       "      <td>400670</td>\n",
       "      <td>400670</td>\n",
       "      <td>381849</td>\n",
       "      <td>321726</td>\n",
       "      <td>381924</td>\n",
       "    </tr>\n",
       "    <tr>\n",
       "      <th>3</th>\n",
       "      <td>Queens</td>\n",
       "      <td>437776</td>\n",
       "      <td>437776</td>\n",
       "      <td>420140</td>\n",
       "      <td>341659</td>\n",
       "      <td>420307</td>\n",
       "    </tr>\n",
       "    <tr>\n",
       "      <th>4</th>\n",
       "      <td>Staten Island</td>\n",
       "      <td>92295</td>\n",
       "      <td>92295</td>\n",
       "      <td>90997</td>\n",
       "      <td>69539</td>\n",
       "      <td>90998</td>\n",
       "    </tr>\n",
       "    <tr>\n",
       "      <th>5</th>\n",
       "      <td>Unspecified</td>\n",
       "      <td>93945</td>\n",
       "      <td>93945</td>\n",
       "      <td>1161</td>\n",
       "      <td>4658</td>\n",
       "      <td>1194</td>\n",
       "    </tr>\n",
       "  </tbody>\n",
       "</table>\n",
       "</div>"
      ],
      "text/plain": [
       "         Borough  Unique Key  Created Date  Incident Zip  Incident Address  \\\n",
       "0          Bronx      340420        340420        325502            297185   \n",
       "1       Brooklyn      578494        578494        560732            486030   \n",
       "2       New York      400670        400670        381849            321726   \n",
       "3         Queens      437776        437776        420140            341659   \n",
       "4  Staten Island       92295         92295         90997             69539   \n",
       "5    Unspecified       93945         93945          1161              4658   \n",
       "\n",
       "     City  \n",
       "0  325577  \n",
       "1  560809  \n",
       "2  381924  \n",
       "3  420307  \n",
       "4   90998  \n",
       "5    1194  "
      ]
     },
     "execution_count": 51,
     "metadata": {},
     "output_type": "execute_result"
    }
   ],
   "source": [
    "grouped_number_of_311_2015_borough"
   ]
  },
  {
   "cell_type": "code",
   "execution_count": 52,
   "metadata": {
    "collapsed": false
   },
   "outputs": [],
   "source": [
    "number_of_311_per_borough = {'BOROUGH': grouped_number_of_311_2015_borough.Borough, 'NUMBER_OF_COMPLAINS': grouped_number_of_311_2015_borough['Unique Key']}\n",
    "number_of_311_per_borough = pd.DataFrame(number_of_311_per_borough).set_index('BOROUGH')"
   ]
  },
  {
   "cell_type": "code",
   "execution_count": 53,
   "metadata": {
    "collapsed": false
   },
   "outputs": [],
   "source": [
    "grouped_hospitals_nyc_borough = hospitals_nyc.groupby('City').sum().reset_index()"
   ]
  },
  {
   "cell_type": "code",
   "execution_count": 54,
   "metadata": {
    "collapsed": false
   },
   "outputs": [
    {
     "data": {
      "text/plain": [
       "Index([u'City', u'index', u'Staffed\\nBeds', u'Total\\nDischarges',\n",
       "       u'Patient\\nDays'],\n",
       "      dtype='object')"
      ]
     },
     "execution_count": 54,
     "metadata": {},
     "output_type": "execute_result"
    }
   ],
   "source": [
    "grouped_hospitals_nyc_borough.columns"
   ]
  },
  {
   "cell_type": "code",
   "execution_count": 55,
   "metadata": {
    "collapsed": false
   },
   "outputs": [],
   "source": [
    "number_of_patients_per_borough = {'BOROUGH': grouped_hospitals_nyc_borough.City, 'PATIENT_DAYS': grouped_hospitals_nyc_borough['Patient\\nDays']}\n",
    "number_of_patients_per_borough = pd.DataFrame(number_of_patients_per_borough).set_index('BOROUGH')"
   ]
  },
  {
   "cell_type": "code",
   "execution_count": 56,
   "metadata": {
    "collapsed": false
   },
   "outputs": [],
   "source": [
    "final_borough_df = {'BOROUGH' : galleries_per_borough.index}\n",
    "final_borough_df = pd.DataFrame(final_borough_df).set_index('BOROUGH')"
   ]
  },
  {
   "cell_type": "code",
   "execution_count": 57,
   "metadata": {
    "collapsed": false
   },
   "outputs": [
    {
     "data": {
      "text/html": [
       "<div>\n",
       "<table border=\"1\" class=\"dataframe\">\n",
       "  <thead>\n",
       "    <tr style=\"text-align: right;\">\n",
       "      <th></th>\n",
       "      <th>NUMBER_OF_COMPLAINS</th>\n",
       "      <th>NUMBER_OF_GALLERIES</th>\n",
       "      <th>NUMBER_OF_MUSEUMS</th>\n",
       "      <th>NUMBER_OF_THEATERS</th>\n",
       "      <th>PATIENT_DAYS</th>\n",
       "    </tr>\n",
       "    <tr>\n",
       "      <th>BOROUGH</th>\n",
       "      <th></th>\n",
       "      <th></th>\n",
       "      <th></th>\n",
       "      <th></th>\n",
       "      <th></th>\n",
       "    </tr>\n",
       "  </thead>\n",
       "  <tbody>\n",
       "    <tr>\n",
       "      <th>Bronx</th>\n",
       "      <td>340420</td>\n",
       "      <td>6</td>\n",
       "      <td>8</td>\n",
       "      <td>NaN</td>\n",
       "      <td>979904</td>\n",
       "    </tr>\n",
       "    <tr>\n",
       "      <th>Brooklyn</th>\n",
       "      <td>578494</td>\n",
       "      <td>61</td>\n",
       "      <td>12</td>\n",
       "      <td>NaN</td>\n",
       "      <td>1207458</td>\n",
       "    </tr>\n",
       "    <tr>\n",
       "      <th>New York</th>\n",
       "      <td>400670</td>\n",
       "      <td>823</td>\n",
       "      <td>89</td>\n",
       "      <td>115</td>\n",
       "      <td>2178035</td>\n",
       "    </tr>\n",
       "    <tr>\n",
       "      <th>Queens</th>\n",
       "      <td>437776</td>\n",
       "      <td>24</td>\n",
       "      <td>12</td>\n",
       "      <td>2</td>\n",
       "      <td>541054</td>\n",
       "    </tr>\n",
       "    <tr>\n",
       "      <th>Staten Island</th>\n",
       "      <td>92295</td>\n",
       "      <td>3</td>\n",
       "      <td>9</td>\n",
       "      <td>NaN</td>\n",
       "      <td>259498</td>\n",
       "    </tr>\n",
       "    <tr>\n",
       "      <th>Unspecified</th>\n",
       "      <td>93945</td>\n",
       "      <td>NaN</td>\n",
       "      <td>NaN</td>\n",
       "      <td>NaN</td>\n",
       "      <td>NaN</td>\n",
       "    </tr>\n",
       "  </tbody>\n",
       "</table>\n",
       "</div>"
      ],
      "text/plain": [
       "               NUMBER_OF_COMPLAINS  NUMBER_OF_GALLERIES  NUMBER_OF_MUSEUMS  \\\n",
       "BOROUGH                                                                      \n",
       "Bronx                       340420                    6                  8   \n",
       "Brooklyn                    578494                   61                 12   \n",
       "New York                    400670                  823                 89   \n",
       "Queens                      437776                   24                 12   \n",
       "Staten Island                92295                    3                  9   \n",
       "Unspecified                  93945                  NaN                NaN   \n",
       "\n",
       "               NUMBER_OF_THEATERS  PATIENT_DAYS  \n",
       "BOROUGH                                          \n",
       "Bronx                         NaN        979904  \n",
       "Brooklyn                      NaN       1207458  \n",
       "New York                      115       2178035  \n",
       "Queens                          2        541054  \n",
       "Staten Island                 NaN        259498  \n",
       "Unspecified                   NaN           NaN  "
      ]
     },
     "execution_count": 57,
     "metadata": {},
     "output_type": "execute_result"
    }
   ],
   "source": [
    "final_borough_df = final_borough_df.combine_first(theater_per_borough)\n",
    "final_borough_df = final_borough_df.combine_first(museum_per_borough)\n",
    "final_borough_df = final_borough_df.combine_first(galleries_per_borough)\n",
    "final_borough_df = final_borough_df.combine_first(number_of_311_per_borough)\n",
    "final_borough_df = final_borough_df.combine_first(number_of_patients_per_borough)\n",
    "final_borough_df"
   ]
  },
  {
   "cell_type": "code",
   "execution_count": 58,
   "metadata": {
    "collapsed": false
   },
   "outputs": [
    {
     "data": {
      "text/plain": [
       "<matplotlib.text.Text at 0x7f09d8987c10>"
      ]
     },
     "execution_count": 58,
     "metadata": {},
     "output_type": "execute_result"
    },
    {
     "data": {
      "image/png": "[encoded data removed]",
      "text/plain": [
       "<matplotlib.figure.Figure at 0x7f09da989a50>"
      ]
     },
     "metadata": {},
     "output_type": "display_data"
    }
   ],
   "source": [
    "figure, ax = plt.subplots(figsize=(12,10))\n",
    "final_borough_df.plot(kind='scatter', x='NUMBER_OF_THEATERS', y='PATIENT_DAYS', \n",
    "                      s = 200, marker = 'o', ax = ax)\n",
    "\n",
    "# ax.set_title('Scatter Plot of Number of Patient Days vs. Number of Theaters per Borough', fontsize = 20)\n",
    "ax.set_ylabel('Number of Patient Days', fontsize = 18)\n",
    "ax.set_xlabel('Number of Theaters', fontsize = 18)\n"
   ]
  },
  {
   "cell_type": "code",
   "execution_count": 59,
   "metadata": {
    "collapsed": false
   },
   "outputs": [
    {
     "data": {
      "text/plain": [
       "<matplotlib.text.Text at 0x7f09d89a45d0>"
      ]
     },
     "execution_count": 59,
     "metadata": {},
     "output_type": "execute_result"
    },
    {
     "data": {
      "image/png": "[encoded data removed]",
      "text/plain": [
       "<matplotlib.figure.Figure at 0x7f09d89ee950>"
      ]
     },
     "metadata": {},
     "output_type": "display_data"
    }
   ],
   "source": [
    "figure, ax = plt.subplots(figsize=(12,10))\n",
    "\n",
    "final_borough_df.plot(kind='scatter', x='NUMBER_OF_GALLERIES', y='PATIENT_DAYS', \n",
    "                      s = 200, marker = 'o', ax = ax)\n",
    "\n",
    "# ax.set_title('Scatter Plot of Number of Patient Days vs. Number of Galleries per Borough', fontsize = 20)\n",
    "ax.set_ylabel('Number of Patient Days', fontsize = 18)\n",
    "ax.set_xlabel('Number of Galleries', fontsize = 18)\n"
   ]
  },
  {
   "cell_type": "code",
   "execution_count": 60,
   "metadata": {
    "collapsed": false
   },
   "outputs": [
    {
     "data": {
      "text/plain": [
       "<matplotlib.text.Text at 0x7f09d899e050>"
      ]
     },
     "execution_count": 60,
     "metadata": {},
     "output_type": "execute_result"
    },
    {
     "data": {
      "image/png": "[encoded data removed]",
      "text/plain": [
       "<matplotlib.figure.Figure at 0x7f09d8af4c50>"
      ]
     },
     "metadata": {},
     "output_type": "display_data"
    }
   ],
   "source": [
    "figure, ax = plt.subplots(figsize=(12,10))\n",
    "final_borough_df.plot(kind='scatter', x='NUMBER_OF_MUSEUMS', y='PATIENT_DAYS',\n",
    "                      s = 200, marker = 'o', ax = ax)\n",
    "\n",
    "# ax.set_title('Scatter Plot of Number of Patient Days vs. Number of Museums per Borough', fontsize = 20)\n",
    "ax.set_ylabel('Number of Patient Days', fontsize = 18)\n",
    "ax.set_xlabel('Number of Museums', fontsize = 18)\n"
   ]
  }
 ],
 "metadata": {
  "kernelspec": {
   "display_name": "Python 2",
   "language": "python",
   "name": "python2"
  },
  "language_info": {
   "codemirror_mode": {
    "name": "ipython",
    "version": 2
   },
   "file_extension": ".py",
   "mimetype": "text/x-python",
   "name": "python",
   "nbconvert_exporter": "python",
   "pygments_lexer": "ipython2",
   "version": "2.7.10"
  }
 },
 "nbformat": 4,
 "nbformat_minor": 0
}
