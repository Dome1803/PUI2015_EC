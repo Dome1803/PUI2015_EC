{
 "cells": [
  {
   "cell_type": "markdown",
   "metadata": {
    "collapsed": true
   },
   "source": [
    "## This notebook works in the path PUI2015/mu529_EC\n",
    "\n",
    "You will need these files stored in that location.  (Or edit the os.chdir call in the first cell). \n",
    "\n",
    "http://web.mta.info/developers/data/nyct/bus/google_transit_manhattan.zip (too large for github)\n",
    "\n",
    "M60_stoparrays.pkl  (on github)\n",
    "\n",
    "m60_stops.csv (on github)"
   ]
  },
  {
   "cell_type": "code",
   "execution_count": 1,
   "metadata": {
    "collapsed": false
   },
   "outputs": [
    {
     "name": "stdout",
     "output_type": "stream",
     "text": [
      "Populating the interactive namespace from numpy and matplotlib\n"
     ]
    }
   ],
   "source": [
    "import pandas as pd\n",
    "import numpy as np\n",
    "import os\n",
    "import pylab as pl\n",
    "%pylab inline\n",
    "import datetime as dt\n",
    "import zipfile\n",
    "import pickle\n",
    "from scipy import stats\n",
    "import warnings\n",
    "warnings.simplefilter(action = \"ignore\", category = RuntimeWarning)\n",
    "\n",
    "# from datetime import timedelta\n",
    "puidir = os.getenv('PUI2015')\n",
    "os.chdir(puidir+'/mu529_EC')\n",
    "stopfile = 'm60_stops.csv'"
   ]
  },
  {
   "cell_type": "markdown",
   "metadata": {},
   "source": [
    "In a separate file listing just the stops along this route, I've identified the second and penultimate stops along a route.  I am not using the first and last stop because it appears that busses often congregate, and therefore excluding those segments of the journey gives a cleaner picture of journey time rather than waiting time.\n",
    "\n",
    "Look up the technical IDs of the second and penultimate stops."
   ]
  },
  {
   "cell_type": "code",
   "execution_count": 2,
   "metadata": {
    "collapsed": false
   },
   "outputs": [],
   "source": [
    "gtfs = zipfile.ZipFile('google_transit_manhattan.zip', 'r')\n",
    "busline = 'M60+'\n",
    "beginstop = pd.read_csv(stopfile).loc[1][0]\n",
    "endstop = pd.read_csv(stopfile).loc[16][0]"
   ]
  },
  {
   "cell_type": "markdown",
   "metadata": {},
   "source": [
    "Load GTFS trips data and only extra rows relevant for the bus line being analyzed.  Also grabbing the service_id column as that is how we'll differentiate separate day-of-week schedules."
   ]
  },
  {
   "cell_type": "code",
   "execution_count": 3,
   "metadata": {
    "collapsed": true
   },
   "outputs": [],
   "source": [
    "trips = pd.read_csv(gtfs.open('trips.txt'))\n",
    "trips = trips[trips['route_id']==busline][['trip_id','service_id']]"
   ]
  },
  {
   "cell_type": "markdown",
   "metadata": {},
   "source": [
    "Now load the stop times.  The times will need to be parsed \"manually\" because none pandas parsers can deal with HH:MM:SS format.\n",
    "\n",
    "Also, some of the times appear to be invalid (e.g. 25:10:00).  Only grab the records with valid times.\n",
    "\n",
    "Then make a dataframe with only the rows matching the trips associated with the analyzed route."
   ]
  },
  {
   "cell_type": "code",
   "execution_count": 4,
   "metadata": {
    "collapsed": true
   },
   "outputs": [],
   "source": [
    "stoptimes = pd.read_csv(gtfs.open('stop_times.txt'))\n",
    "stoptimes = stoptimes[stoptimes['arrival_time']<'23:59:59']\n",
    "myparser = lambda texttime: dt.datetime.strptime(texttime, '%H:%M:%S')\n",
    "stoptimes['arrival_time'] = stoptimes['arrival_time'].apply(myparser)\n",
    "\n",
    "joined = pd.merge(trips.set_index('trip_id'),stoptimes.set_index('trip_id'),how='inner',left_index=True,right_index=True)"
   ]
  },
  {
   "cell_type": "markdown",
   "metadata": {},
   "source": [
    "Make another dataframe with just the stop times at the beginning and endings stops, and add an index (actually, a column) so we know which is which."
   ]
  },
  {
   "cell_type": "code",
   "execution_count": 5,
   "metadata": {
    "collapsed": true
   },
   "outputs": [],
   "source": [
    "times = pd.concat([joined[joined['stop_id']==beginstop],joined[joined['stop_id']==endstop]],keys=[0,1])\n",
    "times.index.names = ['begin_end_ind','trip_id']\n",
    "times.reset_index(level=0,inplace=True)\n",
    "times.reset_index(inplace=True)\n",
    "del joined # cleaning up memory\n",
    "del stoptimes # cleaning up memory"
   ]
  },
  {
   "cell_type": "markdown",
   "metadata": {},
   "source": [
    "Now, sort by the trip and the time so that elapsed time can be calculated from start to end of each trip"
   ]
  },
  {
   "cell_type": "code",
   "execution_count": 6,
   "metadata": {
    "collapsed": true
   },
   "outputs": [],
   "source": [
    "times.sort(columns=['trip_id','arrival_time'],inplace=True)\n",
    "times['elapsed'] = times['arrival_time'].diff()"
   ]
  },
  {
   "cell_type": "markdown",
   "metadata": {},
   "source": [
    "However, that also generates values for the difference betwen the end of one trip and the beginning of another, we only take the ones that show the difference between 0 (beginning of trip) and 1 (end of trip).\n",
    "\n",
    "Also, convert the arrival time into a decimal (hour-based).  Easier to plot.\n",
    "\n",
    "Then, finally, for each of the different schedules (Saturday, Weekday, etc.), plot the scheduled elapsed time according to the arrival time of each trip."
   ]
  },
  {
   "cell_type": "code",
   "execution_count": 7,
   "metadata": {
    "collapsed": false
   },
   "outputs": [
    {
     "data": {
      "image/png": "[encoded data removed]",
      "text/plain": [
       "<matplotlib.figure.Figure at 0x4603d30>"
      ]
     },
     "metadata": {},
     "output_type": "display_data"
    }
   ],
   "source": [
    "block_times = times[times['begin_end_ind'].diff()==1][['arrival_time','elapsed','service_id']]\n",
    "\n",
    "block_times['time_dec'] = block_times.arrival_time.dt.hour + block_times.arrival_time.dt.minute/60\n",
    "\n",
    "colordict = {1:'red',2:'green',3:'yellow',4:'blue',5:'cyan',6:'pink',7:'black',8:'grey',9:'orange',10:'purple'}\n",
    "figure, ax = pl.subplots(figsize=(10,10))\n",
    "c = 0\n",
    "legend = {}\n",
    "for name, group in block_times.groupby('service_id'):\n",
    "    c = c + 1\n",
    "    ax.scatter(group.time_dec, group.elapsed/np.timedelta64(1, 's')/60, color=colordict[c])\n",
    "    legend[colordict[c]]=name"
   ]
  },
  {
   "cell_type": "markdown",
   "metadata": {},
   "source": [
    "From here, I would use an algorithm to group the trips based on scheduled elapsed-time consistency.  But for now I'll just eyeball one example.  There appears to be a consistent schedule from 10am until around 4pm on weekdays.\n",
    "\n",
    "Make a subset of those records and return the median.  (Because I looked for a consistent stretch, the median and mode should be the same.)"
   ]
  },
  {
   "cell_type": "code",
   "execution_count": 8,
   "metadata": {
    "collapsed": false
   },
   "outputs": [
    {
     "name": "stdout",
     "output_type": "stream",
     "text": [
      "Median elapsed time for this subset is \n",
      "2490000000000 nanoseconds\n",
      "Or we can just look at the mode since timedelta uses nanosecond base...\n"
     ]
    },
    {
     "data": {
      "text/plain": [
       "elapsed\n",
       "00:41:30    15\n",
       "00:42:18     3\n",
       "00:42:21     2\n",
       "00:43:57     3\n",
       "00:44:07     1\n",
       "00:46:31     2\n",
       "00:48:56     3\n",
       "dtype: int64"
      ]
     },
     "execution_count": 8,
     "metadata": {},
     "output_type": "execute_result"
    }
   ],
   "source": [
    "subset_block = block_times[(block_times['service_id']==legend['cyan']) & (block_times['time_dec']>=10.0)& (block_times['time_dec']<16)]\n",
    "print('Median elapsed time for this subset is ')\n",
    "print(np.percentile(subset_block['elapsed'],50.0))\n",
    "print('Or we can just look at the mode since timedelta uses nanosecond base...')\n",
    "subset_block.groupby('elapsed').size()"
   ]
  },
  {
   "cell_type": "markdown",
   "metadata": {},
   "source": [
    "Now we're going to compare that with the actual elapsed times.  For another project I already processed all of the GPS transmission data to estimate arrival times for each trip at each stop.  The resulting array is in a pickle file."
   ]
  },
  {
   "cell_type": "code",
   "execution_count": 9,
   "metadata": {
    "collapsed": false
   },
   "outputs": [],
   "source": [
    "with open('M60_stoparrays.pkl', 'rb') as input:\n",
    "    stoparrays = pickle.load(input)"
   ]
  },
  {
   "cell_type": "markdown",
   "metadata": {},
   "source": [
    "Similarly to the process on the schedule files, create the same dataframe by grabbing the start and end times of each trip, sorting, calculating the difference, and filtering.\n",
    "\n",
    "Also categorize by hour and day of week for quick comparison to the scheduled elapsed-time data."
   ]
  },
  {
   "cell_type": "code",
   "execution_count": 10,
   "metadata": {
    "collapsed": true
   },
   "outputs": [],
   "source": [
    "begintimes = stoparrays['MTA_'+str(beginstop)][['vehicle_id','arrival_target']]\n",
    "endtimes = stoparrays['MTA_'+str(endstop)][['vehicle_id','arrival_target']]\n",
    "times = pd.concat([begintimes,endtimes],keys=[0,1])\n",
    "times.index.names = ['begin_end_ind','index']\n",
    "times.reset_index(level=0,inplace=True)\n",
    "\n",
    "times.sort(columns=['vehicle_id','arrival_target'],inplace=True)\n",
    "times['elapsed'] = times['arrival_target'].diff()\n",
    "actual_times = times[times['begin_end_ind'].diff()==1][['arrival_target','elapsed']]\n",
    "actual_times['hour'] = actual_times.arrival_target.dt.hour\n",
    "actual_times['dow'] = actual_times.arrival_target.dt.weekday + 1"
   ]
  },
  {
   "cell_type": "markdown",
   "metadata": {},
   "source": [
    "Make a subset of those data consistent with the comparable schedule data."
   ]
  },
  {
   "cell_type": "code",
   "execution_count": 11,
   "metadata": {
    "collapsed": true
   },
   "outputs": [],
   "source": [
    "subset_actual = actual_times[(actual_times['dow'] <= 5) & (actual_times['hour'] >= 10) & (actual_times['hour'] < 16)]"
   ]
  },
  {
   "cell_type": "markdown",
   "metadata": {},
   "source": [
    "Finally, compare the schedule elapsed time to the distribution of actual times."
   ]
  },
  {
   "cell_type": "code",
   "execution_count": 12,
   "metadata": {
    "collapsed": false
   },
   "outputs": [
    {
     "name": "stdout",
     "output_type": "stream",
     "text": [
      "The block reliability rate for this subset of trips is\n"
     ]
    },
    {
     "data": {
      "text/plain": [
       "68.965517241379317"
      ]
     },
     "execution_count": 12,
     "metadata": {},
     "output_type": "execute_result"
    }
   ],
   "source": [
    "print('The block reliability rate for this subset of trips is')\n",
    "stats.percentileofscore(subset_block['elapsed'],np.percentile(subset_actual['elapsed'],50.0))"
   ]
  },
  {
   "cell_type": "code",
   "execution_count": null,
   "metadata": {
    "collapsed": true
   },
   "outputs": [],
   "source": []
  }
 ],
 "metadata": {
  "kernelspec": {
   "display_name": "Python 3",
   "language": "python",
   "name": "python3"
  },
  "language_info": {
   "codemirror_mode": {
    "name": "ipython",
    "version": 3
   },
   "file_extension": ".py",
   "mimetype": "text/x-python",
   "name": "python",
   "nbconvert_exporter": "python",
   "pygments_lexer": "ipython3",
   "version": "3.4.3"
  }
 },
 "nbformat": 4,
 "nbformat_minor": 0
}
